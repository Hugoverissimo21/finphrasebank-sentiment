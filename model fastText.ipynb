{
 "cells": [
  {
   "cell_type": "markdown",
   "id": "4178bda2",
   "metadata": {},
   "source": [
    "# Base Model - using fastText [DONE]\n",
    "\n",
    "- Train: 75Agree_train\n",
    "- Test: 75Agree_test"
   ]
  },
  {
   "cell_type": "code",
   "execution_count": 1,
   "id": "8d3f86be",
   "metadata": {},
   "outputs": [],
   "source": [
    "import pandas as pd\n",
    "import numpy as np\n",
    "import fasttext\n",
    "import tempfile\n",
    "import os\n",
    "from sklearn.model_selection import StratifiedKFold\n",
    "from sklearn.metrics import classification_report, confusion_matrix, accuracy_score\n",
    "from collections import defaultdict\n",
    "import matplotlib.pyplot as plt\n",
    "import seaborn as sns\n",
    "\n",
    "def save_fasttext_format(df, filepath):\n",
    "    with open(filepath, 'w', encoding='utf-8') as f:\n",
    "        for _, row in df.iterrows():\n",
    "            f.write(f\"__label__{row['label']} {row['sentence']}\\n\")"
   ]
  },
  {
   "cell_type": "markdown",
   "id": "9df4e6af",
   "metadata": {},
   "source": [
    "### Step 1: Prepate the data to feed the model"
   ]
  },
  {
   "cell_type": "code",
   "execution_count": 2,
   "id": "ba19ce88",
   "metadata": {},
   "outputs": [
    {
     "name": "stderr",
     "output_type": "stream",
     "text": [
      "/var/folders/sz/96b_h5gn3y33k0c7jsvrstmm0000gn/T/ipykernel_41458/3496302679.py:6: DeprecationWarning: DataFrameGroupBy.apply operated on the grouping columns. This behavior is deprecated, and in a future version of pandas the grouping columns will be excluded from the operation. Either pass `include_groups=False` to exclude the groupings or explicitly select the grouping columns after groupby to silence this warning.\n",
      "  df_train = df_train.groupby(\"label\").apply(lambda x: x.sample(df_train[\"label\"].value_counts().min())).reset_index(drop=True)\n"
     ]
    },
    {
     "data": {
      "text/plain": [
       "label\n",
       "negative    336\n",
       "neutral     336\n",
       "positive    336\n",
       "Name: count, dtype: int64"
      ]
     },
     "execution_count": 2,
     "metadata": {},
     "output_type": "execute_result"
    }
   ],
   "source": [
    "# load the training and test datasets\n",
    "df_train = pd.read_csv('data/75Agree_train.csv')\n",
    "df_test = pd.read_csv('data/75Agree_test.csv')\n",
    "\n",
    "# balance the training set: undersample to minority class\n",
    "df_train = df_train.groupby(\"label\").apply(lambda x: x.sample(df_train[\"label\"].value_counts().min())).reset_index(drop=True)\n",
    "df_train.value_counts(\"label\")"
   ]
  },
  {
   "cell_type": "markdown",
   "id": "1c6b6696",
   "metadata": {},
   "source": [
    "### Step 2: Hyperparameter tuning"
   ]
  },
  {
   "cell_type": "code",
   "execution_count": 3,
   "id": "fb0864b2",
   "metadata": {},
   "outputs": [
    {
     "data": {
      "text/plain": [
       "'Hyperparameter tuning completed. Results saved to model fastText.csv.'"
      ]
     },
     "execution_count": 3,
     "metadata": {},
     "output_type": "execute_result"
    }
   ],
   "source": [
    "# prepare the k-fold cross-validation\n",
    "skf = StratifiedKFold(n_splits=5, shuffle=True, random_state=42)\n",
    "\n",
    "# hyperparameter tuning area\n",
    "def get_hyperparameters():\n",
    "    return {\n",
    "        \"num_train_epochs\": int(np.random.randint(20, 100)),\n",
    "        \"learning_rate\": float(10 ** np.random.uniform(-5, -2)),\n",
    "        \"dim\": np.random.choice([100, 200, 300])\n",
    "    }\n",
    "\n",
    "try:\n",
    "    all_results = pd.read_csv(\"model fastText.csv\")\n",
    "except FileNotFoundError:\n",
    "    all_results = pd.DataFrame(columns=[\"num_train_epochs\", \"learning_rate\", \"dim\", \"eval_loss\"])\n",
    "\n",
    "# start the hyperparameter tuning\n",
    "for _ in range(0): #range(50)\n",
    "    current_hyperparameters = get_hyperparameters()\n",
    "    current_hyperparameters_eval_loss = 0\n",
    "    current_results = {\"num_train_epochs\": [], \"learning_rate\": [], \"dim\": [] ,\"eval_loss\": []}\n",
    "\n",
    "    # make sure the hyperparameters are not already evaluated\n",
    "    mask = (\n",
    "        (all_results['num_train_epochs'] == current_hyperparameters['num_train_epochs']) &\n",
    "        (all_results['learning_rate'] == current_hyperparameters['learning_rate']) &\n",
    "        (all_results['dim'] == current_hyperparameters['dim'])\n",
    "    )\n",
    "    if mask.any():\n",
    "        print(\"Hyperparameters already evaluated, skipping...\")\n",
    "        continue\n",
    "    else:\n",
    "        print(f\"Evaluating hyperparameters: {current_hyperparameters}\")\n",
    "    \n",
    "    # tuning hyperparameters\n",
    "    for fold, (train_idx, val_idx) in enumerate(skf.split(df_train, df_train[\"label\"])):\n",
    "\n",
    "        # get the folds\n",
    "        df_fold_train = df_train.iloc[train_idx]\n",
    "        df_fold_val = df_train.iloc[val_idx]\n",
    "\n",
    "        # save the folds in fastText format\n",
    "        with tempfile.NamedTemporaryFile(delete=False) as f_tr, tempfile.NamedTemporaryFile(delete=False) as f_val:\n",
    "            save_fasttext_format(df_fold_train, f_tr.name)\n",
    "            save_fasttext_format(df_fold_val, f_val.name)\n",
    "\n",
    "            model = fasttext.train_supervised(f_tr.name,\n",
    "                                              lr=current_hyperparameters[\"learning_rate\"],\n",
    "                                              epoch=current_hyperparameters[\"num_train_epochs\"],\n",
    "                                              dim=current_hyperparameters[\"dim\"],\n",
    "                                              wordNgrams=2, verbose=0)\n",
    "        \n",
    "            # get the validation loss\n",
    "            n, precision, recall = model.test(f_val.name)\n",
    "            val_loss = 1 - precision\n",
    "\n",
    "            current_hyperparameters_eval_loss += val_loss\n",
    "            \n",
    "            os.unlink(f_tr.name)\n",
    "            os.unlink(f_val.name)\n",
    "\n",
    "    # update the results dataframe\n",
    "    current_results[\"num_train_epochs\"].append(current_hyperparameters[\"num_train_epochs\"])\n",
    "    current_results[\"learning_rate\"].append(current_hyperparameters[\"learning_rate\"])\n",
    "    current_results[\"dim\"].append(current_hyperparameters[\"dim\"])\n",
    "    current_results[\"eval_loss\"].append(current_hyperparameters_eval_loss / skf.n_splits)\n",
    "    all_results = pd.concat([all_results, pd.DataFrame(current_results)], ignore_index=True)\n",
    "\n",
    "\"Hyperparameter tuning completed. Results saved to model fastText.csv.\""
   ]
  },
  {
   "cell_type": "code",
   "execution_count": 4,
   "id": "c549c05c",
   "metadata": {},
   "outputs": [
    {
     "data": {
      "text/html": [
       "<div>\n",
       "<style scoped>\n",
       "    .dataframe tbody tr th:only-of-type {\n",
       "        vertical-align: middle;\n",
       "    }\n",
       "\n",
       "    .dataframe tbody tr th {\n",
       "        vertical-align: top;\n",
       "    }\n",
       "\n",
       "    .dataframe thead th {\n",
       "        text-align: right;\n",
       "    }\n",
       "</style>\n",
       "<table border=\"1\" class=\"dataframe\">\n",
       "  <thead>\n",
       "    <tr style=\"text-align: right;\">\n",
       "      <th></th>\n",
       "      <th>num_train_epochs</th>\n",
       "      <th>learning_rate</th>\n",
       "      <th>dim</th>\n",
       "      <th>eval_loss</th>\n",
       "    </tr>\n",
       "  </thead>\n",
       "  <tbody>\n",
       "    <tr>\n",
       "      <th>0</th>\n",
       "      <td>88</td>\n",
       "      <td>0.004601</td>\n",
       "      <td>200</td>\n",
       "      <td>0.470223</td>\n",
       "    </tr>\n",
       "    <tr>\n",
       "      <th>1</th>\n",
       "      <td>98</td>\n",
       "      <td>0.000017</td>\n",
       "      <td>300</td>\n",
       "      <td>0.473193</td>\n",
       "    </tr>\n",
       "    <tr>\n",
       "      <th>2</th>\n",
       "      <td>52</td>\n",
       "      <td>0.000288</td>\n",
       "      <td>300</td>\n",
       "      <td>0.474213</td>\n",
       "    </tr>\n",
       "  </tbody>\n",
       "</table>\n",
       "</div>"
      ],
      "text/plain": [
       "   num_train_epochs  learning_rate  dim  eval_loss\n",
       "0                88       0.004601  200   0.470223\n",
       "1                98       0.000017  300   0.473193\n",
       "2                52       0.000288  300   0.474213"
      ]
     },
     "execution_count": 4,
     "metadata": {},
     "output_type": "execute_result"
    }
   ],
   "source": [
    "all_results = all_results.sort_values(by=\"eval_loss\").reset_index(drop=True)\n",
    "all_results.to_csv(\"model fastText.csv\", index=False)\n",
    "\n",
    "all_results.head(3)"
   ]
  },
  {
   "cell_type": "markdown",
   "id": "9caed2f2",
   "metadata": {},
   "source": [
    "### Step 3: Extract the best hyperparameters and train the model"
   ]
  },
  {
   "cell_type": "code",
   "execution_count": 5,
   "id": "58668412",
   "metadata": {},
   "outputs": [
    {
     "name": "stdout",
     "output_type": "stream",
     "text": [
      "Best hyperparameters found in 50 tested combinations:\n",
      "Num train epochs: 88.0\n",
      "Dimensionality: 200.0\n",
      "Learning rate: 0.0046005986384747\n"
     ]
    }
   ],
   "source": [
    "best_hyperparameters = all_results.iloc[0]\n",
    "print(f\"Best hyperparameters found in {all_results.shape[0]} tested combinations:\")\n",
    "print(f\"Num train epochs: {best_hyperparameters['num_train_epochs']}\")\n",
    "print(f\"Dimensionality: {best_hyperparameters['dim']}\")\n",
    "print(f\"Learning rate: {best_hyperparameters['learning_rate']}\")"
   ]
  },
  {
   "cell_type": "code",
   "execution_count": 6,
   "id": "d78d2972",
   "metadata": {},
   "outputs": [],
   "source": [
    "# save the folds in fastText format\n",
    "with tempfile.NamedTemporaryFile(delete=False) as f_train:\n",
    "    save_fasttext_format(df_train, f_train.name)\n",
    "\n",
    "    # train the model with the best hyperparameters and the full train set\n",
    "    model = fasttext.train_supervised(f_train.name,\n",
    "                                        lr=float(best_hyperparameters[\"learning_rate\"]),\n",
    "                                        dim=int(best_hyperparameters[\"dim\"]),\n",
    "                                        epoch=int(best_hyperparameters[\"num_train_epochs\"]),\n",
    "                                        wordNgrams=2, verbose=0)\n",
    "    \n",
    "    os.unlink(f_train.name)"
   ]
  },
  {
   "cell_type": "code",
   "execution_count": 7,
   "id": "6c012b53",
   "metadata": {},
   "outputs": [
    {
     "name": "stdout",
     "output_type": "stream",
     "text": [
      "\n",
      "=== Classification Report (Train) ===\n",
      "              precision    recall  f1-score   support\n",
      "\n",
      "    negative       0.59      0.64      0.62       336\n",
      "     neutral       0.51      0.95      0.66       336\n",
      "    positive       0.93      0.04      0.07       336\n",
      "\n",
      "    accuracy                           0.54      1008\n",
      "   macro avg       0.68      0.54      0.45      1008\n",
      "weighted avg       0.68      0.54      0.45      1008\n",
      "\n"
     ]
    },
    {
     "data": {
      "image/png": "[encoded data removed]",
      "text/plain": [
       "<Figure size 600x500 with 2 Axes>"
      ]
     },
     "metadata": {},
     "output_type": "display_data"
    },
    {
     "name": "stdout",
     "output_type": "stream",
     "text": [
      "\n",
      "=== Classification Report (Test) ===\n",
      "              precision    recall  f1-score   support\n",
      "\n",
      "    negative       0.32      0.64      0.42        84\n",
      "     neutral       0.76      0.91      0.83       429\n",
      "    positive       0.50      0.03      0.05       178\n",
      "\n",
      "    accuracy                           0.65       691\n",
      "   macro avg       0.53      0.53      0.44       691\n",
      "weighted avg       0.64      0.65      0.58       691\n",
      "\n"
     ]
    },
    {
     "data": {
      "image/png": "[encoded data removed]",
      "text/plain": [
       "<Figure size 600x500 with 2 Axes>"
      ]
     },
     "metadata": {},
     "output_type": "display_data"
    }
   ],
   "source": [
    "def evaluate_fasttext_model(model, df, split_name):\n",
    "    y_true, y_pred = [], []\n",
    "\n",
    "    for row in df.itertuples(index=False):\n",
    "        label = f\"__label__{row.label}\"  # assume column name is 'label'\n",
    "        text = row.sentence                 # assume column name is 'text'\n",
    "        pred_label, _ = model.predict(text, k=1)\n",
    "        y_true.append(label.replace(\"__label__\", \"\"))\n",
    "        y_pred.append(pred_label[0].replace(\"__label__\", \"\"))\n",
    "\n",
    "    labels = sorted(set(y_true))\n",
    "    print(f\"\\n=== Classification Report ({split_name}) ===\")\n",
    "    print(classification_report(y_true, y_pred, target_names=labels))\n",
    "\n",
    "    cm = confusion_matrix(y_true, y_pred, labels=labels, normalize='true')\n",
    "    plt.figure(figsize=(6, 5))\n",
    "    sns.heatmap(cm, annot=True, fmt=\".2f\", cmap=\"Blues\",\n",
    "                xticklabels=labels, yticklabels=labels)\n",
    "    plt.xlabel(\"Predicted\")\n",
    "    plt.ylabel(\"True\")\n",
    "    plt.title(f\"Normalized Confusion Matrix ({split_name})\")\n",
    "    plt.show()\n",
    "\n",
    "evaluate_fasttext_model(model, df_train, \"Train\")\n",
    "evaluate_fasttext_model(model, df_test, \"Test\")"
   ]
  },
  {
   "cell_type": "code",
   "execution_count": null,
   "id": "f0daa83d",
   "metadata": {},
   "outputs": [],
   "source": []
  }
 ],
 "metadata": {
  "kernelspec": {
   "display_name": "fasttext_env",
   "language": "python",
   "name": "python3"
  },
  "language_info": {
   "codemirror_mode": {
    "name": "ipython",
    "version": 3
   },
   "file_extension": ".py",
   "mimetype": "text/x-python",
   "name": "python",
   "nbconvert_exporter": "python",
   "pygments_lexer": "ipython3",
   "version": "3.10.18"
  }
 },
 "nbformat": 4,
 "nbformat_minor": 5
}
