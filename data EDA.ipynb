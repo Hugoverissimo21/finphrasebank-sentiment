{
 "cells": [
  {
   "cell_type": "markdown",
   "id": "615239f5",
   "metadata": {},
   "source": [
    "# Dataset financial_phrasebank\n",
    "\n",
    "Polar sentiment dataset of sentences from financial news. The dataset consists of 4840 sentences from English language financial news categorised by sentiment. The dataset is divided by agreement rate of 5-8 annotators.\n",
    "\n",
    "https://huggingface.co/datasets/takala/financial_phrasebank"
   ]
  },
  {
   "cell_type": "code",
   "execution_count": 11,
   "id": "e6d0bb2a",
   "metadata": {},
   "outputs": [],
   "source": [
    "def load_financial_phrasebank(filepath):\n",
    "    data = []\n",
    "    with open(filepath, encoding=\"iso-8859-1\") as f:\n",
    "        for line in f:\n",
    "            sentence, label = line.rsplit(\"@\", 1)\n",
    "            data.append({\n",
    "                \"sentence\": sentence.strip(),\n",
    "                \"label\": label.strip()\n",
    "            })\n",
    "    return data\n",
    "\n",
    "path_to_files = \"data/FinancialPhraseBank-v1.0/\"\n",
    "files_base_name = \"Sentences_\"\n",
    "possible_datasets = [\"50Agree\", \"66Agree\", \"75Agree\", \"AllAgree\"]\n",
    "files_ends_with = \".txt\""
   ]
  },
  {
   "cell_type": "markdown",
   "id": "d040f6ec",
   "metadata": {},
   "source": [
    "## Read the dataset"
   ]
  },
  {
   "cell_type": "code",
   "execution_count": 16,
   "id": "eac020cb",
   "metadata": {},
   "outputs": [
    {
     "name": "stdout",
     "output_type": "stream",
     "text": [
      "Loaded 4846 sentences from data/FinancialPhraseBank-v1.0/Sentences_50Agree.txt\n",
      "Loaded 4217 sentences from data/FinancialPhraseBank-v1.0/Sentences_66Agree.txt\n",
      "Loaded 3453 sentences from data/FinancialPhraseBank-v1.0/Sentences_75Agree.txt\n",
      "Loaded 2264 sentences from data/FinancialPhraseBank-v1.0/Sentences_AllAgree.txt\n",
      "Sentence: According to Gran , the company has no plans to move all production to Russia , although that is where the company is growing ., Label: neutral\n",
      "Sentence: For the last quarter of 2010 , Componenta 's net sales doubled to EUR131m from EUR76m for the same period a year earlier , while it moved to a zero pre-tax profit from a pre-tax loss of EUR7m ., Label: positive\n",
      "Sentence: In the third quarter of 2010 , net sales increased by 5.2 % to EUR 205.5 mn , and operating profit by 34.9 % to EUR 23.5 mn ., Label: positive\n",
      "Sentence: Operating profit rose to EUR 13.1 mn from EUR 8.7 mn in the corresponding period in 2007 representing 7.7 % of net sales ., Label: positive\n",
      "Sentence: Operating profit totalled EUR 21.1 mn , up from EUR 18.6 mn in 2007 , representing 9.7 % of net sales ., Label: positive\n"
     ]
    }
   ],
   "source": [
    "for dataset in possible_datasets:\n",
    "    file_path = f\"{path_to_files}{files_base_name}{dataset}{files_ends_with}\"\n",
    "    data = load_financial_phrasebank(file_path)\n",
    "    print(f\"Loaded {len(data)} sentences from {file_path}\")\n",
    "    \n",
    "# Example of how to access the data\n",
    "for item in data[:5]:\n",
    "    print(f\"Sentence: {item['sentence']}, Label: {item['label']}\")"
   ]
  },
  {
   "cell_type": "markdown",
   "id": "d62327ce",
   "metadata": {},
   "source": [
    "## Are there repeated sentences?"
   ]
  },
  {
   "cell_type": "code",
   "execution_count": 17,
   "id": "a683830d",
   "metadata": {},
   "outputs": [
    {
     "name": "stdout",
     "output_type": "stream",
     "text": [
      "Dataset: 50Agree, Number of sentences: 4846, Number of unique sentences: 4838\n",
      "Dataset: 66Agree, Number of sentences: 4217, Number of unique sentences: 4211\n",
      "Dataset: 75Agree, Number of sentences: 3453, Number of unique sentences: 3448\n",
      "Dataset: AllAgree, Number of sentences: 2264, Number of unique sentences: 2259\n"
     ]
    }
   ],
   "source": [
    "for dataset in possible_datasets:\n",
    "    file_path = f\"{path_to_files}{files_base_name}{dataset}{files_ends_with}\"\n",
    "    data = load_financial_phrasebank(file_path)\n",
    "    print(f\"Dataset: {dataset}, Number of sentences: {len(data)}, Number of unique sentences: {len(set(item['sentence'] for item in data))}\")"
   ]
  },
  {
   "cell_type": "code",
   "execution_count": 18,
   "id": "1d28a373",
   "metadata": {},
   "outputs": [
    {
     "name": "stdout",
     "output_type": "stream",
     "text": [
      "Total number of sentences across all datasets: 14780\n",
      "Total number of unique sentences across all datasets: 4838\n"
     ]
    }
   ],
   "source": [
    "all_data = []\n",
    "for dataset in possible_datasets:\n",
    "    file_path = f\"{path_to_files}{files_base_name}{dataset}{files_ends_with}\"\n",
    "    data = load_financial_phrasebank(file_path)\n",
    "    all_data.extend(data)\n",
    "\n",
    "print(f\"Total number of sentences across all datasets: {len(all_data)}\")\n",
    "print(f\"Total number of unique sentences across all datasets: {len(set(item['sentence'] for item in all_data))}\")"
   ]
  },
  {
   "cell_type": "markdown",
   "id": "8f59456e",
   "metadata": {},
   "source": [
    "Note that we only should choose one of the `possible_datasets`."
   ]
  },
  {
   "cell_type": "code",
   "execution_count": null,
   "id": "0392f41c",
   "metadata": {},
   "outputs": [],
   "source": []
  },
  {
   "cell_type": "markdown",
   "id": "fdc0ccae",
   "metadata": {},
   "source": [
    "---\n",
    "---\n",
    "---\n",
    "# POR FAZER\n",
    "---\n",
    "---\n",
    "---"
   ]
  },
  {
   "cell_type": "markdown",
   "id": "52f86ebb",
   "metadata": {},
   "source": [
    "# ..... preprocessing? visualizations? .... etc.\n",
    "\n",
    "\n",
    " 1. Tamanho e Estrutura dos Dados\n",
    "- `df.shape`, `df.info()`, `df.describe()`\n",
    "- Número total de documentos\n",
    "- Verificação de campos nulos\n",
    "- Distribuição por classe (se supervisionado)\n",
    "\n",
    " 2. Análise de Texto Bruto\n",
    "- Comprimento dos textos (número de caracteres, tokens)\n",
    "- df['text'].str.len()\n",
    "- df['text'].apply(lambda x: len(x.split()))\n",
    "- Densidade de palavras, símbolos, stopwords, emojis\n",
    "\n",
    "3. Distribuição de Classes\n",
    "- Frequência e proporção por classe\n",
    "- .value_counts()\n",
    "- Verificação de desbalanceamento de classes\n",
    "\n",
    " 4. Tokenização e Frequência\n",
    "- Tokenização simples: `nltk.word_tokenize`, `str.split`\n",
    "- Contagem de palavras:\n",
    "- from collections import Counter\n",
    "- Counter(\" \".join(df['text']).split()).most_common(10)\n",
    "- Wordclouds ou histogramas de frequência\n",
    "\n",
    " 5. N-gramas\n",
    "- Extração de bigramas/trigramas frequentes\n",
    "- Identificação de padrões locais\n",
    "\n",
    "\n",
    " 8. TF-IDF e Matriz de Vetores\n",
    "- Construção de matriz TF-IDF\n",
    "- Análise de esparsidade e termos discriminativos\n",
    "\n",
    " 9. Embeddings\n",
    "- Extração de embeddings médios (Word2Vec, FastText, BERT)\n",
    "- Projeção 2D com PCA, t-SNE ou UMAP\n",
    "\n",
    " 11. Outliers e Ruído\n",
    "- Textos vazios, muito curtos, duplicados\n",
    "- Ruído lexical (caracteres repetidos, spam)\n"
   ]
  },
  {
   "cell_type": "code",
   "execution_count": null,
   "id": "51d2fb4c",
   "metadata": {},
   "outputs": [],
   "source": []
  }
 ],
 "metadata": {
  "kernelspec": {
   "display_name": "CAA02",
   "language": "python",
   "name": "python3"
  },
  "language_info": {
   "codemirror_mode": {
    "name": "ipython",
    "version": 3
   },
   "file_extension": ".py",
   "mimetype": "text/x-python",
   "name": "python",
   "nbconvert_exporter": "python",
   "pygments_lexer": "ipython3",
   "version": "3.10.17"
  }
 },
 "nbformat": 4,
 "nbformat_minor": 5
}
