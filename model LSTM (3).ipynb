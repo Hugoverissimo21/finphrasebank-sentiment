{
 "cells": [
  {
   "cell_type": "markdown",
   "id": "4178bda2",
   "metadata": {},
   "source": [
    "# Base Model - using LSTM\n",
    "\n",
    "- Train: 75Agree_train\n",
    "- Test: 75Agree_test"
   ]
  },
  {
   "cell_type": "code",
   "execution_count": 9,
   "id": "8d3f86be",
   "metadata": {},
   "outputs": [],
   "source": [
    "import numpy as np\n",
    "import random\n",
    "from tensorflow.keras.layers import Dropout\n",
    "import pandas as pd\n",
    "from sklearn.metrics import classification_report, confusion_matrix\n",
    "import matplotlib.pyplot as plt\n",
    "from tensorflow.keras.models import Sequential\n",
    "from tensorflow.keras.layers import Embedding, LSTM, Dense\n",
    "from tensorflow.keras.preprocessing.text import Tokenizer\n",
    "from tensorflow.keras.preprocessing.sequence import pad_sequences\n",
    "import seaborn as sns\n",
    "from sklearn.model_selection import StratifiedKFold"
   ]
  },
  {
   "cell_type": "markdown",
   "id": "9df4e6af",
   "metadata": {},
   "source": [
    "### Step 1: Prepate the data to feed the model"
   ]
  },
  {
   "cell_type": "code",
   "execution_count": 10,
   "id": "ba19ce88",
   "metadata": {},
   "outputs": [
    {
     "name": "stderr",
     "output_type": "stream",
     "text": [
      "/var/folders/sz/96b_h5gn3y33k0c7jsvrstmm0000gn/T/ipykernel_55199/918004758.py:14: DeprecationWarning: DataFrameGroupBy.apply operated on the grouping columns. This behavior is deprecated, and in a future version of pandas the grouping columns will be excluded from the operation. Either pass `include_groups=False` to exclude the groupings or explicitly select the grouping columns after groupby to silence this warning.\n",
      "  df_train = df_train.groupby(\"label\").apply(lambda x: x.sample(df_train[\"label\"].value_counts().min())).reset_index(drop=True)\n"
     ]
    },
    {
     "data": {
      "text/plain": [
       "label\n",
       "0    336\n",
       "1    336\n",
       "2    336\n",
       "Name: count, dtype: int64"
      ]
     },
     "execution_count": 10,
     "metadata": {},
     "output_type": "execute_result"
    }
   ],
   "source": [
    "# load the training and test datasets\n",
    "df_train = pd.read_csv('data/75Agree_train.csv')\n",
    "df_test = pd.read_csv('data/75Agree_test.csv')\n",
    "\n",
    "# label encoders\n",
    "label2id = {\"negative\": 0, \"neutral\": 1, \"positive\": 2}\n",
    "id2label = {v: k for k, v in label2id.items()}\n",
    "\n",
    "# label encoding\n",
    "df_train[\"label\"] = df_train[\"label\"].map(label2id)\n",
    "df_test[\"label\"] = df_test[\"label\"].map(label2id)\n",
    "\n",
    "# balance the training set: undersample to minority class\n",
    "df_train = df_train.groupby(\"label\").apply(lambda x: x.sample(df_train[\"label\"].value_counts().min())).reset_index(drop=True)\n",
    "df_train.value_counts(\"label\")"
   ]
  },
  {
   "cell_type": "markdown",
   "id": "9c64a2ea",
   "metadata": {},
   "source": [
    "### Step 2: Train the model with fine-tuned hyperparameters"
   ]
  },
  {
   "cell_type": "code",
   "execution_count": 11,
   "id": "b6c329ca",
   "metadata": {},
   "outputs": [],
   "source": [
    "# tokenization\n",
    "tokenizer = Tokenizer(num_words=10000, oov_token=\"<OOV>\")\n",
    "tokenizer.fit_on_texts(df_train['sentence'])\n",
    "\n",
    "X_train_seq = tokenizer.texts_to_sequences(df_train['sentence'])\n",
    "X_test_seq = tokenizer.texts_to_sequences(df_test['sentence'])\n",
    "\n",
    "# padding\n",
    "lengths = df_train['sentence'].str.split().apply(len)\n",
    "maxlen = int(np.percentile(lengths, 95))\n",
    "\n",
    "X_train = pad_sequences(X_train_seq, maxlen=maxlen)\n",
    "X_test = pad_sequences(X_test_seq, maxlen=maxlen)\n",
    "\n",
    "# labels\n",
    "y_train = df_train['label'].values\n",
    "y_test = df_test['label'].values"
   ]
  },
  {
   "cell_type": "code",
   "execution_count": 12,
   "id": "04d95193",
   "metadata": {},
   "outputs": [
    {
     "name": "stderr",
     "output_type": "stream",
     "text": [
      "/opt/anaconda3/envs/CAA02/lib/python3.10/site-packages/keras/src/layers/core/embedding.py:97: UserWarning: Argument `input_length` is deprecated. Just remove it.\n",
      "  warnings.warn(\n"
     ]
    },
    {
     "name": "stdout",
     "output_type": "stream",
     "text": [
      "Evaluating hyperparameters: {'embedding_dim': 256, 'lstm_units': 64, 'epochs': 8, 'lr': 0.001, 'dropout': 0.3, 'recurrent_dropout': 0.0}\n",
      "Fold 1 | Validation Loss: 1.1620206832885742\n",
      "Fold 2 | Validation Loss: 1.1649819612503052\n",
      "Fold 3 | Validation Loss: 0.9785814881324768\n",
      "Fold 4 | Validation Loss: 1.1344566345214844\n",
      "Fold 5 | Validation Loss: 1.0324034690856934\n",
      "Evaluating hyperparameters: {'embedding_dim': 32, 'lstm_units': 256, 'epochs': 8, 'lr': 0.0005, 'dropout': 0.5, 'recurrent_dropout': 0.3}\n",
      "Fold 1 | "
     ]
    },
    {
     "name": "stderr",
     "output_type": "stream",
     "text": [
      "/opt/anaconda3/envs/CAA02/lib/python3.10/site-packages/keras/src/layers/core/embedding.py:97: UserWarning: Argument `input_length` is deprecated. Just remove it.\n",
      "  warnings.warn(\n"
     ]
    },
    {
     "name": "stdout",
     "output_type": "stream",
     "text": [
      "Validation Loss: 0.8424555063247681\n",
      "Fold 2 | Validation Loss: 0.9974209070205688\n",
      "Fold 3 | Validation Loss: 0.9257505536079407\n",
      "Fold 4 | Validation Loss: 0.997023344039917\n",
      "Fold 5 | Validation Loss: 0.8446643352508545\n",
      "Evaluating hyperparameters: {'embedding_dim': 256, 'lstm_units': 128, 'epochs': 3, 'lr': 0.0001, 'dropout': 0.3, 'recurrent_dropout': 0.5}\n",
      "Fold 1 | "
     ]
    },
    {
     "name": "stderr",
     "output_type": "stream",
     "text": [
      "/opt/anaconda3/envs/CAA02/lib/python3.10/site-packages/keras/src/layers/core/embedding.py:97: UserWarning: Argument `input_length` is deprecated. Just remove it.\n",
      "  warnings.warn(\n"
     ]
    },
    {
     "name": "stdout",
     "output_type": "stream",
     "text": [
      "Validation Loss: 0.8562720417976379\n",
      "Fold 2 | Validation Loss: 0.8949894905090332\n",
      "Fold 3 | Validation Loss: 0.8349295854568481\n",
      "Fold 4 | Validation Loss: 0.8933549523353577\n",
      "Fold 5 | Validation Loss: 0.8465116620063782\n",
      "Evaluating hyperparameters: {'embedding_dim': 128, 'lstm_units': 64, 'epochs': 3, 'lr': 0.0001, 'dropout': 0.2, 'recurrent_dropout': 0.5}\n",
      "Fold 1 | "
     ]
    },
    {
     "name": "stderr",
     "output_type": "stream",
     "text": [
      "/opt/anaconda3/envs/CAA02/lib/python3.10/site-packages/keras/src/layers/core/embedding.py:97: UserWarning: Argument `input_length` is deprecated. Just remove it.\n",
      "  warnings.warn(\n"
     ]
    },
    {
     "name": "stdout",
     "output_type": "stream",
     "text": [
      "Validation Loss: 0.8902884125709534\n",
      "Fold 2 | Validation Loss: 0.9246811866760254\n",
      "Fold 3 | Validation Loss: 0.8500680327415466\n",
      "Fold 4 | Validation Loss: 0.8801435232162476\n",
      "Fold 5 | Validation Loss: 0.8362778425216675\n",
      "Evaluating hyperparameters: {'embedding_dim': 64, 'lstm_units': 128, 'epochs': 8, 'lr': 0.0005, 'dropout': 0.3, 'recurrent_dropout': 0.5}\n",
      "Fold 1 | "
     ]
    },
    {
     "name": "stderr",
     "output_type": "stream",
     "text": [
      "/opt/anaconda3/envs/CAA02/lib/python3.10/site-packages/keras/src/layers/core/embedding.py:97: UserWarning: Argument `input_length` is deprecated. Just remove it.\n",
      "  warnings.warn(\n"
     ]
    },
    {
     "name": "stdout",
     "output_type": "stream",
     "text": [
      "Validation Loss: 0.987641453742981\n",
      "Fold 2 | Validation Loss: 1.0262792110443115\n",
      "Fold 3 | Validation Loss: 0.9409446120262146\n",
      "Fold 4 | Validation Loss: 0.9338422417640686\n",
      "Fold 5 | Validation Loss: 0.9393019676208496\n",
      "Evaluating hyperparameters: {'embedding_dim': 64, 'lstm_units': 128, 'epochs': 3, 'lr': 1e-05, 'dropout': 0.5, 'recurrent_dropout': 0.2}\n",
      "Fold 1 | "
     ]
    },
    {
     "name": "stderr",
     "output_type": "stream",
     "text": [
      "/opt/anaconda3/envs/CAA02/lib/python3.10/site-packages/keras/src/layers/core/embedding.py:97: UserWarning: Argument `input_length` is deprecated. Just remove it.\n",
      "  warnings.warn(\n"
     ]
    },
    {
     "name": "stdout",
     "output_type": "stream",
     "text": [
      "Validation Loss: 0.8443425297737122\n",
      "Fold 2 | Validation Loss: 0.9024311304092407\n",
      "Fold 3 | Validation Loss: 0.9442890286445618\n",
      "Fold 4 | Validation Loss: 0.9145336747169495\n",
      "Fold 5 | Validation Loss: 0.9188336133956909\n",
      "Evaluating hyperparameters: {'embedding_dim': 128, 'lstm_units': 256, 'epochs': 8, 'lr': 0.0001, 'dropout': 0.3, 'recurrent_dropout': 0.3}\n",
      "Fold 1 | "
     ]
    },
    {
     "name": "stderr",
     "output_type": "stream",
     "text": [
      "/opt/anaconda3/envs/CAA02/lib/python3.10/site-packages/keras/src/layers/core/embedding.py:97: UserWarning: Argument `input_length` is deprecated. Just remove it.\n",
      "  warnings.warn(\n"
     ]
    },
    {
     "name": "stdout",
     "output_type": "stream",
     "text": [
      "Validation Loss: 0.8403586149215698\n",
      "Fold 2 | Validation Loss: 1.0488932132720947\n",
      "Fold 3 | Validation Loss: 0.8684802055358887\n",
      "Fold 4 | Validation Loss: 1.1830042600631714\n",
      "Fold 5 | Validation Loss: 0.9716314077377319\n",
      "Evaluating hyperparameters: {'embedding_dim': 128, 'lstm_units': 32, 'epochs': 3, 'lr': 0.0001, 'dropout': 0.5, 'recurrent_dropout': 0.2}\n",
      "Fold 1 | "
     ]
    },
    {
     "name": "stderr",
     "output_type": "stream",
     "text": [
      "/opt/anaconda3/envs/CAA02/lib/python3.10/site-packages/keras/src/layers/core/embedding.py:97: UserWarning: Argument `input_length` is deprecated. Just remove it.\n",
      "  warnings.warn(\n"
     ]
    },
    {
     "name": "stdout",
     "output_type": "stream",
     "text": [
      "Validation Loss: 0.8724039196968079\n",
      "Fold 2 | Validation Loss: 0.9372428059577942\n",
      "Fold 3 | Validation Loss: 0.9092769026756287\n",
      "Fold 4 | Validation Loss: 0.9269534945487976\n",
      "Fold 5 | Validation Loss: 0.9137473106384277\n",
      "Evaluating hyperparameters: {'embedding_dim': 256, 'lstm_units': 128, 'epochs': 2, 'lr': 0.0005, 'dropout': 0.5, 'recurrent_dropout': 0.2}\n",
      "Fold 1 | "
     ]
    },
    {
     "name": "stderr",
     "output_type": "stream",
     "text": [
      "/opt/anaconda3/envs/CAA02/lib/python3.10/site-packages/keras/src/layers/core/embedding.py:97: UserWarning: Argument `input_length` is deprecated. Just remove it.\n",
      "  warnings.warn(\n"
     ]
    },
    {
     "name": "stdout",
     "output_type": "stream",
     "text": [
      "Validation Loss: 0.873291015625\n",
      "Fold 2 | Validation Loss: 0.9160789847373962\n",
      "Fold 3 | Validation Loss: 0.9314492344856262\n",
      "Fold 4 | Validation Loss: 0.9178646802902222\n",
      "Fold 5 | Validation Loss: 0.8964427709579468\n",
      "Evaluating hyperparameters: {'embedding_dim': 32, 'lstm_units': 32, 'epochs': 10, 'lr': 1e-05, 'dropout': 0.2, 'recurrent_dropout': 0.2}\n",
      "Fold 1 | "
     ]
    },
    {
     "name": "stderr",
     "output_type": "stream",
     "text": [
      "/opt/anaconda3/envs/CAA02/lib/python3.10/site-packages/keras/src/layers/core/embedding.py:97: UserWarning: Argument `input_length` is deprecated. Just remove it.\n",
      "  warnings.warn(\n"
     ]
    },
    {
     "name": "stdout",
     "output_type": "stream",
     "text": [
      "Validation Loss: 0.9596637487411499\n",
      "Fold 2 | Validation Loss: 1.0080188512802124\n",
      "Fold 3 | Validation Loss: 0.8714388608932495\n",
      "Fold 4 | Validation Loss: 0.91993647813797\n",
      "Fold 5 | Validation Loss: 0.9466643333435059\n"
     ]
    },
    {
     "data": {
      "text/plain": [
       "'Hyperparameter tuning completed. Results saved to model LSTM (3).csv.'"
      ]
     },
     "execution_count": 12,
     "metadata": {},
     "output_type": "execute_result"
    }
   ],
   "source": [
    "def get_hyperparameters():\n",
    "    return {\n",
    "        \"embedding_dim\": random.choice([32, 64, 128, 256]),\n",
    "        \"lstm_units\": random.choice([32, 64, 128, 256]),\n",
    "        \"epochs\": random.choice([2, 3, 5, 8, 10, 15]),\n",
    "        \"lr\": random.choice([1e-3, 5e-4, 1e-4, 1e-5]),\n",
    "        \"dropout\": random.choice([0.2, 0.3, 0.5]),\n",
    "        \"recurrent_dropout\": random.choice([0.0, 0.2, 0.3, 0.5])\n",
    "    }\n",
    "\n",
    "# cross-validation setup\n",
    "skf = StratifiedKFold(n_splits=5, shuffle=True, random_state=42)\n",
    "\n",
    "try:\n",
    "    all_results = pd.read_csv(\"model LSTM (3).csv\")\n",
    "except FileNotFoundError:\n",
    "    all_results = pd.DataFrame(columns=[\"embedding_dim\", \"lstm_units\", \"epochs\", \"lr\", \"dropout\", \"recurrent_dropout\", \"valloss\"])\n",
    "\n",
    "\n",
    "for _ in range(10):\n",
    "    current_hyperparams = get_hyperparameters()\n",
    "    current_results = {\"embedding_dim\": [], \"lstm_units\": [], \"epochs\": [], \"lr\": [], \"dropout\": [], \"recurrent_dropout\": [], \"valloss\": []}\n",
    "    current_valloss = 0\n",
    "\n",
    "    mask = (\n",
    "        (all_results['embedding_dim'] == current_hyperparams['embedding_dim']) &\n",
    "        (all_results['lstm_units'] == current_hyperparams['lstm_units']) &\n",
    "        (all_results['epochs'] == current_hyperparams['epochs']) &\n",
    "        (all_results['lr'] == current_hyperparams['lr']) &\n",
    "        (all_results['dropout'] == current_hyperparams['dropout']) &\n",
    "        (all_results['recurrent_dropout'] == current_hyperparams['recurrent_dropout'])\n",
    "    )\n",
    "\n",
    "    if mask.any():\n",
    "        print(\"Hyperparameters already evaluated, skipping...\")\n",
    "        continue\n",
    "    else:\n",
    "        print(f\"Evaluating hyperparameters: {current_hyperparams}\")\n",
    "\n",
    "    for fold, (train_index, val_index) in enumerate(skf.split(X_train, y_train)):\n",
    "        print(f\"Fold {fold + 1}\", end=' | ')\n",
    "\n",
    "        # split data\n",
    "        X_train_fold, X_val_fold = X_train[train_index], X_train[val_index]\n",
    "        y_train_fold, y_val_fold = y_train[train_index], y_train[val_index]\n",
    "\n",
    "        # model definition\n",
    "        model = Sequential([\n",
    "            Embedding(input_dim=10000, output_dim=current_hyperparams['embedding_dim'], input_length=maxlen),\n",
    "            LSTM(current_hyperparams['lstm_units'],\n",
    "                dropout=current_hyperparams['dropout'],\n",
    "                recurrent_dropout=current_hyperparams['recurrent_dropout']),\n",
    "            Dense(64, activation='relu'),\n",
    "            Dropout(current_hyperparams['dropout']),\n",
    "            Dense(3, activation='softmax')\n",
    "        ])\n",
    "\n",
    "        model.compile(loss='sparse_categorical_crossentropy', optimizer='adam')\n",
    "\n",
    "        # train\n",
    "        history = model.fit(X_train_fold, y_train_fold, epochs=current_hyperparams['epochs'], batch_size=32, validation_data=(X_val_fold, y_val_fold), verbose=0)\n",
    "\n",
    "        # evaluate\n",
    "        val_loss = model.evaluate(X_val_fold, y_val_fold, verbose=0)\n",
    "        print(f\"Validation Loss: {val_loss}\")\n",
    "\n",
    "        current_valloss += val_loss\n",
    "\n",
    "    current_valloss /= skf.n_splits\n",
    "    current_results['embedding_dim'].append(current_hyperparams['embedding_dim'])\n",
    "    current_results['lstm_units'].append(current_hyperparams['lstm_units'])\n",
    "    current_results['epochs'].append(current_hyperparams['epochs'])\n",
    "    current_results['lr'].append(current_hyperparams['lr'])\n",
    "    current_results['dropout'].append(current_hyperparams['dropout'])\n",
    "    current_results['recurrent_dropout'].append(current_hyperparams['recurrent_dropout'])\n",
    "    current_results['valloss'].append(current_valloss)\n",
    "    all_results = pd.concat([all_results, pd.DataFrame(current_results)], ignore_index=True)\n",
    "    all_results.to_csv(\"model LSTM (3).csv\", index=False)\n",
    "\n",
    "\"Hyperparameter tuning completed. Results saved to model LSTM (3).csv.\""
   ]
  },
  {
   "cell_type": "code",
   "execution_count": 13,
   "id": "6881271e",
   "metadata": {},
   "outputs": [
    {
     "name": "stdout",
     "output_type": "stream",
     "text": [
      "Top 3 hyperparameter configurations based on validation loss from 20 trials:\n"
     ]
    },
    {
     "data": {
      "text/html": [
       "<div>\n",
       "<style scoped>\n",
       "    .dataframe tbody tr th:only-of-type {\n",
       "        vertical-align: middle;\n",
       "    }\n",
       "\n",
       "    .dataframe tbody tr th {\n",
       "        vertical-align: top;\n",
       "    }\n",
       "\n",
       "    .dataframe thead th {\n",
       "        text-align: right;\n",
       "    }\n",
       "</style>\n",
       "<table border=\"1\" class=\"dataframe\">\n",
       "  <thead>\n",
       "    <tr style=\"text-align: right;\">\n",
       "      <th></th>\n",
       "      <th>embedding_dim</th>\n",
       "      <th>lstm_units</th>\n",
       "      <th>epochs</th>\n",
       "      <th>lr</th>\n",
       "      <th>dropout</th>\n",
       "      <th>recurrent_dropout</th>\n",
       "      <th>valloss</th>\n",
       "    </tr>\n",
       "  </thead>\n",
       "  <tbody>\n",
       "    <tr>\n",
       "      <th>0</th>\n",
       "      <td>128</td>\n",
       "      <td>32</td>\n",
       "      <td>3</td>\n",
       "      <td>0.0001</td>\n",
       "      <td>0.2</td>\n",
       "      <td>0.0</td>\n",
       "      <td>0.862312</td>\n",
       "    </tr>\n",
       "    <tr>\n",
       "      <th>1</th>\n",
       "      <td>256</td>\n",
       "      <td>128</td>\n",
       "      <td>3</td>\n",
       "      <td>0.0001</td>\n",
       "      <td>0.3</td>\n",
       "      <td>0.5</td>\n",
       "      <td>0.865212</td>\n",
       "    </tr>\n",
       "    <tr>\n",
       "      <th>2</th>\n",
       "      <td>128</td>\n",
       "      <td>64</td>\n",
       "      <td>3</td>\n",
       "      <td>0.0010</td>\n",
       "      <td>0.3</td>\n",
       "      <td>0.3</td>\n",
       "      <td>0.873947</td>\n",
       "    </tr>\n",
       "  </tbody>\n",
       "</table>\n",
       "</div>"
      ],
      "text/plain": [
       "   embedding_dim  lstm_units  epochs      lr  dropout  recurrent_dropout  \\\n",
       "0            128          32       3  0.0001      0.2                0.0   \n",
       "1            256         128       3  0.0001      0.3                0.5   \n",
       "2            128          64       3  0.0010      0.3                0.3   \n",
       "\n",
       "    valloss  \n",
       "0  0.862312  \n",
       "1  0.865212  \n",
       "2  0.873947  "
      ]
     },
     "execution_count": 13,
     "metadata": {},
     "output_type": "execute_result"
    }
   ],
   "source": [
    "all_results = all_results.sort_values(by=\"valloss\").reset_index(drop=True)\n",
    "all_results.to_csv(\"model LSTM (3).csv\", index=False)\n",
    "\n",
    "print(f\"Top 3 hyperparameter configurations based on validation loss from {all_results.shape[0]} trials:\")\n",
    "\n",
    "all_results.head(3)"
   ]
  },
  {
   "cell_type": "code",
   "execution_count": 14,
   "id": "3ac3fb6d",
   "metadata": {},
   "outputs": [
    {
     "name": "stderr",
     "output_type": "stream",
     "text": [
      "/opt/anaconda3/envs/CAA02/lib/python3.10/site-packages/keras/src/layers/core/embedding.py:97: UserWarning: Argument `input_length` is deprecated. Just remove it.\n",
      "  warnings.warn(\n"
     ]
    }
   ],
   "source": [
    "best_hyperparams = all_results.iloc[0]\n",
    "\n",
    "# convert the hyperparameters to the correct types\n",
    "best_hyperparams = {\n",
    "    \"embedding_dim\": int(best_hyperparams['embedding_dim']),\n",
    "    \"lstm_units\": int(best_hyperparams['lstm_units']),\n",
    "    \"epochs\": int(best_hyperparams['epochs']),\n",
    "    \"lr\": float(best_hyperparams['lr']),\n",
    "    \"dropout\": float(best_hyperparams['dropout']),\n",
    "    \"recurrent_dropout\": float(best_hyperparams['recurrent_dropout'])\n",
    "}\n",
    "\n",
    "# final model with the best hyperparameters\n",
    "model = Sequential([\n",
    "    Embedding(input_dim=10000, output_dim=current_hyperparams['embedding_dim'], input_length=maxlen),\n",
    "    LSTM(current_hyperparams['lstm_units'],\n",
    "         dropout=current_hyperparams['dropout'],\n",
    "         recurrent_dropout=current_hyperparams['recurrent_dropout']),\n",
    "    Dense(64, activation='relu'),\n",
    "    Dropout(current_hyperparams['dropout']),\n",
    "    Dense(3, activation='softmax')\n",
    "])\n",
    "\n",
    "model.compile(loss='sparse_categorical_crossentropy', optimizer='adam')\n",
    "\n",
    "# train\n",
    "history = model.fit(X_train, y_train, epochs=best_hyperparams['epochs'], batch_size=32, validation_data=(X_test, y_test), verbose=0)"
   ]
  },
  {
   "cell_type": "code",
   "execution_count": 15,
   "id": "4d4b0ba1",
   "metadata": {},
   "outputs": [
    {
     "data": {
      "image/png": "[encoded data removed]",
      "text/plain": [
       "<Figure size 640x480 with 1 Axes>"
      ]
     },
     "metadata": {},
     "output_type": "display_data"
    }
   ],
   "source": [
    "# learning curves\n",
    "plt.plot(history.history['loss'], label='Train')\n",
    "plt.plot(history.history['val_loss'], label='Test')\n",
    "plt.title('Learning Curves')\n",
    "plt.xlabel('Epochs')\n",
    "plt.ylabel('Loss')\n",
    "plt.legend()\n",
    "plt.grid(True)\n",
    "plt.show()"
   ]
  },
  {
   "cell_type": "markdown",
   "id": "c91bf5e9",
   "metadata": {},
   "source": [
    "### Step 3: Evaluate the model"
   ]
  },
  {
   "cell_type": "code",
   "execution_count": 16,
   "id": "5e102acf",
   "metadata": {},
   "outputs": [
    {
     "name": "stdout",
     "output_type": "stream",
     "text": [
      "\u001b[1m32/32\u001b[0m \u001b[32m━━━━━━━━━━━━━━━━━━━━\u001b[0m\u001b[37m\u001b[0m \u001b[1m0s\u001b[0m 10ms/step\n",
      "=== Train ===\n",
      "              precision    recall  f1-score   support\n",
      "\n",
      "    negative      0.563     0.869     0.683       336\n",
      "     neutral      0.815     0.943     0.874       336\n",
      "    positive      0.690     0.205     0.317       336\n",
      "\n",
      "    accuracy                          0.673      1008\n",
      "   macro avg      0.689     0.673     0.625      1008\n",
      "weighted avg      0.689     0.673     0.625      1008\n",
      "\n"
     ]
    },
    {
     "data": {
      "image/png": "[encoded data removed]",
      "text/plain": [
       "<Figure size 600x400 with 2 Axes>"
      ]
     },
     "metadata": {},
     "output_type": "display_data"
    },
    {
     "name": "stdout",
     "output_type": "stream",
     "text": [
      "\u001b[1m22/22\u001b[0m \u001b[32m━━━━━━━━━━━━━━━━━━━━\u001b[0m\u001b[37m\u001b[0m \u001b[1m0s\u001b[0m 4ms/step\n",
      "=== Test ===\n",
      "              precision    recall  f1-score   support\n",
      "\n",
      "    negative      0.300     0.726     0.425        84\n",
      "     neutral      0.865     0.837     0.851       429\n",
      "    positive      0.356     0.146     0.207       178\n",
      "\n",
      "    accuracy                          0.645       691\n",
      "   macro avg      0.507     0.570     0.494       691\n",
      "weighted avg      0.665     0.645     0.633       691\n",
      "\n"
     ]
    },
    {
     "data": {
      "image/png": "[encoded data removed]",
      "text/plain": [
       "<Figure size 600x400 with 2 Axes>"
      ]
     },
     "metadata": {},
     "output_type": "display_data"
    }
   ],
   "source": [
    "# Avaliação com seaborn\n",
    "def print_metrics(X, y, title):\n",
    "    y_pred_probs = model.predict(X)\n",
    "    y_pred = np.argmax(y_pred_probs, axis=1)\n",
    "    print(f\"=== {title} ===\")\n",
    "    print(classification_report(y, y_pred, target_names=[id2label[i] for i in range(3)], digits=3))\n",
    "\n",
    "    cm = confusion_matrix(y, y_pred, normalize='true')\n",
    "    labels = [id2label[i] for i in range(3)]\n",
    "    plt.figure(figsize=(6, 4))\n",
    "    sns.heatmap(cm, annot=True, xticklabels=labels, yticklabels=labels, cmap='Blues')\n",
    "    plt.xlabel('Predito')\n",
    "    plt.ylabel('Verdadeiro')\n",
    "    plt.title(f'Matriz de Confusão - {title}')\n",
    "    plt.tight_layout()\n",
    "    plt.show()\n",
    "\n",
    "print_metrics(X_train, y_train, \"Train\")\n",
    "print_metrics(X_test, y_test, \"Test\")"
   ]
  },
  {
   "cell_type": "code",
   "execution_count": null,
   "id": "090a28f6",
   "metadata": {},
   "outputs": [],
   "source": []
  }
 ],
 "metadata": {
  "kernelspec": {
   "display_name": "CAA02",
   "language": "python",
   "name": "python3"
  },
  "language_info": {
   "codemirror_mode": {
    "name": "ipython",
    "version": 3
   },
   "file_extension": ".py",
   "mimetype": "text/x-python",
   "name": "python",
   "nbconvert_exporter": "python",
   "pygments_lexer": "ipython3",
   "version": "3.10.17"
  }
 },
 "nbformat": 4,
 "nbformat_minor": 5
}
