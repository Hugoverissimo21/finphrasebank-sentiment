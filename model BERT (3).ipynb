{
 "cells": [
  {
   "cell_type": "markdown",
   "id": "5e6e71cb",
   "metadata": {},
   "source": [
    "# Weighted Dataset Model\n",
    "\n",
    "- Train: AnyAgree_train\n",
    "- Test: 75Agree_test\n",
    "\n",
    "# TODO\n",
    "\n",
    "- cv"
   ]
  },
  {
   "cell_type": "code",
   "execution_count": 1,
   "id": "f973d00e",
   "metadata": {},
   "outputs": [
    {
     "name": "stderr",
     "output_type": "stream",
     "text": [
      "/opt/anaconda3/envs/CAA02/lib/python3.10/site-packages/tqdm/auto.py:21: TqdmWarning: IProgress not found. Please update jupyter and ipywidgets. See https://ipywidgets.readthedocs.io/en/stable/user_install.html\n",
      "  from .autonotebook import tqdm as notebook_tqdm\n"
     ]
    }
   ],
   "source": [
    "import pandas as pd\n",
    "from torch.utils.data import Dataset, DataLoader\n",
    "from transformers import BertTokenizer, BertForSequenceClassification\n",
    "from torch.optim import AdamW\n",
    "from transformers import get_scheduler\n",
    "from sklearn.metrics import accuracy_score\n",
    "from tqdm import tqdm\n",
    "from sklearn.model_selection import StratifiedKFold\n",
    "import torch\n",
    "import numpy as np\n",
    "import torch\n",
    "from torch.utils.data import Dataset, DataLoader\n",
    "from transformers import BertTokenizer, BertForSequenceClassification\n",
    "from transformers import get_scheduler\n",
    "from torch.optim import AdamW\n",
    "from sklearn.metrics import accuracy_score\n",
    "from tqdm import tqdm\n",
    "import matplotlib.pyplot as plt\n",
    "import numpy as np\n",
    "import seaborn as sns\n",
    "import matplotlib.pyplot as plt\n",
    "from sklearn.metrics import classification_report, confusion_matrix\n",
    "from collections import Counter\n",
    "import numpy as np"
   ]
  },
  {
   "cell_type": "markdown",
   "id": "6440ed3d",
   "metadata": {},
   "source": [
    "### Step 1: Read the data"
   ]
  },
  {
   "cell_type": "code",
   "execution_count": 2,
   "id": "dd2f14fe",
   "metadata": {},
   "outputs": [
    {
     "name": "stdout",
     "output_type": "stream",
     "text": [
      "Agreements in training set: ['66Agree' '50Agree' '75Agree' 'AllAgree']\n"
     ]
    },
    {
     "data": {
      "text/html": [
       "<div>\n",
       "<style scoped>\n",
       "    .dataframe tbody tr th:only-of-type {\n",
       "        vertical-align: middle;\n",
       "    }\n",
       "\n",
       "    .dataframe tbody tr th {\n",
       "        vertical-align: top;\n",
       "    }\n",
       "\n",
       "    .dataframe thead th {\n",
       "        text-align: right;\n",
       "    }\n",
       "</style>\n",
       "<table border=\"1\" class=\"dataframe\">\n",
       "  <thead>\n",
       "    <tr style=\"text-align: right;\">\n",
       "      <th></th>\n",
       "      <th>sentence</th>\n",
       "      <th>label</th>\n",
       "      <th>agreement</th>\n",
       "    </tr>\n",
       "  </thead>\n",
       "  <tbody>\n",
       "    <tr>\n",
       "      <th>0</th>\n",
       "      <td>Technopolis plans to develop in stages an area...</td>\n",
       "      <td>neutral</td>\n",
       "      <td>66Agree</td>\n",
       "    </tr>\n",
       "    <tr>\n",
       "      <th>1</th>\n",
       "      <td>The international electronic industry company ...</td>\n",
       "      <td>negative</td>\n",
       "      <td>50Agree</td>\n",
       "    </tr>\n",
       "    <tr>\n",
       "      <th>2</th>\n",
       "      <td>With the new production plant the company woul...</td>\n",
       "      <td>positive</td>\n",
       "      <td>75Agree</td>\n",
       "    </tr>\n",
       "  </tbody>\n",
       "</table>\n",
       "</div>"
      ],
      "text/plain": [
       "                                            sentence     label agreement\n",
       "0  Technopolis plans to develop in stages an area...   neutral   66Agree\n",
       "1  The international electronic industry company ...  negative   50Agree\n",
       "2  With the new production plant the company woul...  positive   75Agree"
      ]
     },
     "execution_count": 2,
     "metadata": {},
     "output_type": "execute_result"
    }
   ],
   "source": [
    "# load the training and test datasets\n",
    "df_train = pd.read_csv('data/AnyAgree_train.csv')\n",
    "df_test = pd.read_csv('data/75Agree_test.csv')\n",
    "\n",
    "\n",
    "print(f\"Agreements in training set: {df_train['agreement'].unique()}\")\n",
    "df_train.head(3)"
   ]
  },
  {
   "cell_type": "code",
   "execution_count": 3,
   "id": "31121528",
   "metadata": {},
   "outputs": [
    {
     "name": "stderr",
     "output_type": "stream",
     "text": [
      "/var/folders/sz/96b_h5gn3y33k0c7jsvrstmm0000gn/T/ipykernel_1109/2547942190.py:10: DeprecationWarning: DataFrameGroupBy.apply operated on the grouping columns. This behavior is deprecated, and in a future version of pandas the grouping columns will be excluded from the operation. Either pass `include_groups=False` to exclude the groupings or explicitly select the grouping columns after groupby to silence this warning.\n",
      "  df_train = df_train.groupby(\"label\").apply(lambda x: x.sample(df_train[\"label\"].value_counts().min())).reset_index(drop=True)\n"
     ]
    },
    {
     "data": {
      "text/plain": [
       "label\n",
       "0    520\n",
       "1    520\n",
       "2    520\n",
       "Name: count, dtype: int64"
      ]
     },
     "execution_count": 3,
     "metadata": {},
     "output_type": "execute_result"
    }
   ],
   "source": [
    "# label encoders\n",
    "label2id = {\"negative\": 0, \"neutral\": 1, \"positive\": 2}\n",
    "id2label = {v: k for k, v in label2id.items()}\n",
    "\n",
    "# label encoding\n",
    "df_train[\"label\"] = df_train[\"label\"].map(label2id)\n",
    "df_test[\"label\"] = df_test[\"label\"].map(label2id)\n",
    "\n",
    "# balance the training set: undersample to minority class\n",
    "df_train = df_train.groupby(\"label\").apply(lambda x: x.sample(df_train[\"label\"].value_counts().min())).reset_index(drop=True)\n",
    "df_train.value_counts(\"label\")"
   ]
  },
  {
   "cell_type": "markdown",
   "id": "107b0e09",
   "metadata": {},
   "source": [
    "### Step 2: Create the weighted pipeline"
   ]
  },
  {
   "cell_type": "code",
   "execution_count": 4,
   "id": "30292bdf",
   "metadata": {},
   "outputs": [],
   "source": [
    "# define the datasets class (with or without weights)\n",
    "class WeightedTextDataset(Dataset):\n",
    "    def __init__(self, df, tokenizer, weight_map):\n",
    "        texts = df[\"sentence\"].tolist()\n",
    "        labels = df[\"label\"].tolist()\n",
    "        weight_classes = df[\"agreement\"].tolist()\n",
    "        self.encodings = tokenizer(texts, truncation=True, padding=\"max_length\", max_length=128)\n",
    "        self.labels = labels\n",
    "        self.weights = [weight_map[w] for w in weight_classes]\n",
    "\n",
    "    def __getitem__(self, idx):\n",
    "        item = {key: torch.tensor(val[idx]) for key, val in self.encodings.items()}\n",
    "        item['labels'] = torch.tensor(self.labels[idx])\n",
    "        item['weights'] = torch.tensor(self.weights[idx], dtype=torch.float)\n",
    "        return item\n",
    "\n",
    "    def __len__(self):\n",
    "        return len(self.labels)\n",
    "    \n",
    "class WeightlessTextDataset(Dataset):\n",
    "    def __init__(self, df, tokenizer):\n",
    "        texts = df[\"sentence\"].tolist()\n",
    "        labels = df[\"label\"].tolist()\n",
    "\n",
    "        self.encodings = tokenizer(texts, truncation=True, padding=\"max_length\", max_length=128)\n",
    "        self.labels = labels\n",
    "\n",
    "    def __getitem__(self, idx):\n",
    "        item = {key: torch.tensor(val[idx]) for key, val in self.encodings.items()}\n",
    "        item['labels'] = torch.tensor(self.labels[idx])\n",
    "        return item\n",
    "\n",
    "    def __len__(self):\n",
    "        return len(self.labels)\n",
    "\n",
    "# define the tokenizer    \n",
    "tokenizer = BertTokenizer.from_pretrained(\"bert-base-uncased\")\n",
    "\n",
    "# define the weight map"
   ]
  },
  {
   "cell_type": "markdown",
   "id": "4183c90c",
   "metadata": {},
   "source": [
    "**Weight Map**\n",
    "\n",
    "The ideia is that the higher the agreement level, the higher the weight, so the model will focus more on the samples with higher agreement.\n",
    "\n",
    "But the weights should also take into account the number of samples in each agreement level so the cost function can be compared to a weightless dataset.\n",
    "\n",
    "With that in mind, the weight map should be dynamically calculated based on the number of samples in each agreement level following this formula:\n",
    "\n",
    "$\\ $\n",
    "\n",
    "Let $a_1, a_2, \\ldots, a_k$ be the raw agreement scores for each class (e.g., 0.5, 0.66, 0.75, 1.0)\n",
    "\n",
    "Let $ n_i $ be the number of samples in class $ i $, and $ N = \\sum_{i=1}^k n_i $\n",
    "\n",
    "Let $ p_i $ be the softmax weight for class $ i $, and $ w_i $ be the final weight for class $ i $\n",
    "\n",
    "$$\n",
    "w_i = \\text{scale} \\cdot p_i = \\left( \\frac{N}{\\sum_{j=1}^k n_j \\cdot p_j} \\right) \\cdot  \\left( \\frac{e^{a_i}}{\\sum_{j=1}^k e^{a_j}} \\right)\n",
    "$$"
   ]
  },
  {
   "cell_type": "code",
   "execution_count": 5,
   "id": "50319cd7",
   "metadata": {},
   "outputs": [],
   "source": [
    "def get_weight_map(df):\n",
    "    \"\"\"\n",
    "    Compute a weight map using softmax-normalized agreement scores, scaled so the mean weight is 1.\n",
    "    \"\"\"\n",
    "    a_i = {\n",
    "        \"50Agree\": 0.50,\n",
    "        \"66Agree\": 0.66,\n",
    "        \"75Agree\": 0.75,\n",
    "        \"AllAgree\": 1.00\n",
    "    }\n",
    "    n_i = {agreement: df['agreement'].value_counts().get(agreement, 0) for agreement in a_i.keys()}\n",
    "    N = len(df)\n",
    "\n",
    "    # compute softmax weights (p_i)\n",
    "    p_i = {agreement: np.exp(a_i[agreement]) for agreement in a_i}\n",
    "    p_i = {agreement: value/ sum(p_i.values()) for agreement, value in p_i.items()}\n",
    "\n",
    "    # compute scale (scale)\n",
    "    scale = N / sum(n_i[agreement] * p_i[agreement] for agreement in p_i)\n",
    "\n",
    "    # compute weight map\n",
    "    weight_map = {agreement: scale * p_i[agreement] for agreement in p_i}\n",
    "\n",
    "    # return the weight map\n",
    "    return weight_map"
   ]
  },
  {
   "cell_type": "markdown",
   "id": "7d46a00a",
   "metadata": {},
   "source": [
    "### Step 3: Tune the hyperparameters"
   ]
  },
  {
   "cell_type": "code",
   "execution_count": 6,
   "id": "5440ad67",
   "metadata": {},
   "outputs": [
    {
     "name": "stdout",
     "output_type": "stream",
     "text": [
      "Evaluating hyperparameters: {'num_train_epochs': 5, 'learning_rate': 0.0001, 'weight_decay': 0.1}\n"
     ]
    },
    {
     "name": "stderr",
     "output_type": "stream",
     "text": [
      "Some weights of BertForSequenceClassification were not initialized from the model checkpoint at bert-base-uncased and are newly initialized: ['classifier.bias', 'classifier.weight']\n",
      "You should probably TRAIN this model on a down-stream task to be able to use it for predictions and inference.\n",
      "100%|██████████| 78/78 [02:50<00:00,  2.19s/it]\n",
      "100%|██████████| 78/78 [02:53<00:00,  2.23s/it]\n",
      "100%|██████████| 78/78 [02:57<00:00,  2.28s/it]\n",
      "100%|██████████| 78/78 [02:58<00:00,  2.29s/it]\n",
      "100%|██████████| 78/78 [02:57<00:00,  2.28s/it]\n"
     ]
    },
    {
     "name": "stdout",
     "output_type": "stream",
     "text": [
      "Fold 1/5, Validation Loss: 0.6162\n"
     ]
    },
    {
     "name": "stderr",
     "output_type": "stream",
     "text": [
      "Some weights of BertForSequenceClassification were not initialized from the model checkpoint at bert-base-uncased and are newly initialized: ['classifier.bias', 'classifier.weight']\n",
      "You should probably TRAIN this model on a down-stream task to be able to use it for predictions and inference.\n",
      "100%|██████████| 78/78 [02:57<00:00,  2.28s/it]\n",
      "100%|██████████| 78/78 [02:58<00:00,  2.28s/it]\n",
      "100%|██████████| 78/78 [02:54<00:00,  2.23s/it]\n",
      "100%|██████████| 78/78 [02:52<00:00,  2.21s/it]\n",
      "100%|██████████| 78/78 [02:52<00:00,  2.21s/it]\n"
     ]
    },
    {
     "name": "stdout",
     "output_type": "stream",
     "text": [
      "Fold 2/5, Validation Loss: 0.5310\n"
     ]
    },
    {
     "name": "stderr",
     "output_type": "stream",
     "text": [
      "Some weights of BertForSequenceClassification were not initialized from the model checkpoint at bert-base-uncased and are newly initialized: ['classifier.bias', 'classifier.weight']\n",
      "You should probably TRAIN this model on a down-stream task to be able to use it for predictions and inference.\n",
      "100%|██████████| 78/78 [02:52<00:00,  2.22s/it]\n",
      "100%|██████████| 78/78 [02:53<00:00,  2.22s/it]\n",
      "100%|██████████| 78/78 [02:52<00:00,  2.22s/it]\n",
      "100%|██████████| 78/78 [02:53<00:00,  2.22s/it]\n",
      "100%|██████████| 78/78 [02:53<00:00,  2.22s/it]\n"
     ]
    },
    {
     "name": "stdout",
     "output_type": "stream",
     "text": [
      "Fold 3/5, Validation Loss: 0.4369\n"
     ]
    },
    {
     "name": "stderr",
     "output_type": "stream",
     "text": [
      "Some weights of BertForSequenceClassification were not initialized from the model checkpoint at bert-base-uncased and are newly initialized: ['classifier.bias', 'classifier.weight']\n",
      "You should probably TRAIN this model on a down-stream task to be able to use it for predictions and inference.\n",
      "100%|██████████| 78/78 [02:53<00:00,  2.23s/it]\n",
      "100%|██████████| 78/78 [02:54<00:00,  2.24s/it]\n",
      "100%|██████████| 78/78 [02:54<00:00,  2.24s/it]\n",
      "100%|██████████| 78/78 [02:54<00:00,  2.23s/it]\n",
      "100%|██████████| 78/78 [02:54<00:00,  2.24s/it]\n"
     ]
    },
    {
     "name": "stdout",
     "output_type": "stream",
     "text": [
      "Fold 4/5, Validation Loss: 0.6458\n"
     ]
    },
    {
     "name": "stderr",
     "output_type": "stream",
     "text": [
      "Some weights of BertForSequenceClassification were not initialized from the model checkpoint at bert-base-uncased and are newly initialized: ['classifier.bias', 'classifier.weight']\n",
      "You should probably TRAIN this model on a down-stream task to be able to use it for predictions and inference.\n",
      "100%|██████████| 78/78 [03:00<00:00,  2.32s/it]\n",
      "100%|██████████| 78/78 [02:55<00:00,  2.25s/it]\n",
      "100%|██████████| 78/78 [02:54<00:00,  2.24s/it]\n",
      "100%|██████████| 78/78 [02:54<00:00,  2.24s/it]\n",
      "100%|██████████| 78/78 [02:54<00:00,  2.24s/it]\n"
     ]
    },
    {
     "name": "stdout",
     "output_type": "stream",
     "text": [
      "Fold 5/5, Validation Loss: 0.6316\n",
      "Evaluating hyperparameters: {'num_train_epochs': 2, 'learning_rate': 0.01, 'weight_decay': 0.0}\n"
     ]
    },
    {
     "name": "stderr",
     "output_type": "stream",
     "text": [
      "Some weights of BertForSequenceClassification were not initialized from the model checkpoint at bert-base-uncased and are newly initialized: ['classifier.bias', 'classifier.weight']\n",
      "You should probably TRAIN this model on a down-stream task to be able to use it for predictions and inference.\n",
      "100%|██████████| 78/78 [02:53<00:00,  2.22s/it]\n",
      "100%|██████████| 78/78 [02:52<00:00,  2.22s/it]\n"
     ]
    },
    {
     "name": "stdout",
     "output_type": "stream",
     "text": [
      "Fold 1/5, Validation Loss: 1.1091\n"
     ]
    },
    {
     "name": "stderr",
     "output_type": "stream",
     "text": [
      "Some weights of BertForSequenceClassification were not initialized from the model checkpoint at bert-base-uncased and are newly initialized: ['classifier.bias', 'classifier.weight']\n",
      "You should probably TRAIN this model on a down-stream task to be able to use it for predictions and inference.\n",
      "100%|██████████| 78/78 [02:54<00:00,  2.24s/it]\n",
      "100%|██████████| 78/78 [03:04<00:00,  2.37s/it]\n"
     ]
    },
    {
     "name": "stdout",
     "output_type": "stream",
     "text": [
      "Fold 2/5, Validation Loss: 1.1141\n"
     ]
    },
    {
     "name": "stderr",
     "output_type": "stream",
     "text": [
      "Some weights of BertForSequenceClassification were not initialized from the model checkpoint at bert-base-uncased and are newly initialized: ['classifier.bias', 'classifier.weight']\n",
      "You should probably TRAIN this model on a down-stream task to be able to use it for predictions and inference.\n",
      "100%|██████████| 78/78 [02:58<00:00,  2.29s/it]\n",
      "100%|██████████| 78/78 [02:58<00:00,  2.29s/it]\n"
     ]
    },
    {
     "name": "stdout",
     "output_type": "stream",
     "text": [
      "Fold 3/5, Validation Loss: 1.1199\n"
     ]
    },
    {
     "name": "stderr",
     "output_type": "stream",
     "text": [
      "Some weights of BertForSequenceClassification were not initialized from the model checkpoint at bert-base-uncased and are newly initialized: ['classifier.bias', 'classifier.weight']\n",
      "You should probably TRAIN this model on a down-stream task to be able to use it for predictions and inference.\n",
      "100%|██████████| 78/78 [02:58<00:00,  2.28s/it]\n",
      "100%|██████████| 78/78 [02:57<00:00,  2.27s/it]\n"
     ]
    },
    {
     "name": "stdout",
     "output_type": "stream",
     "text": [
      "Fold 4/5, Validation Loss: 1.1161\n"
     ]
    },
    {
     "name": "stderr",
     "output_type": "stream",
     "text": [
      "Some weights of BertForSequenceClassification were not initialized from the model checkpoint at bert-base-uncased and are newly initialized: ['classifier.bias', 'classifier.weight']\n",
      "You should probably TRAIN this model on a down-stream task to be able to use it for predictions and inference.\n",
      "100%|██████████| 78/78 [02:56<00:00,  2.27s/it]\n",
      "100%|██████████| 78/78 [02:56<00:00,  2.27s/it]\n"
     ]
    },
    {
     "name": "stdout",
     "output_type": "stream",
     "text": [
      "Fold 5/5, Validation Loss: 1.1263\n",
      "Evaluating hyperparameters: {'num_train_epochs': 1, 'learning_rate': 0.01, 'weight_decay': 0.05}\n"
     ]
    },
    {
     "name": "stderr",
     "output_type": "stream",
     "text": [
      "Some weights of BertForSequenceClassification were not initialized from the model checkpoint at bert-base-uncased and are newly initialized: ['classifier.bias', 'classifier.weight']\n",
      "You should probably TRAIN this model on a down-stream task to be able to use it for predictions and inference.\n",
      "100%|██████████| 78/78 [02:55<00:00,  2.25s/it]\n"
     ]
    },
    {
     "name": "stdout",
     "output_type": "stream",
     "text": [
      "Fold 1/5, Validation Loss: 1.1396\n"
     ]
    },
    {
     "name": "stderr",
     "output_type": "stream",
     "text": [
      "Some weights of BertForSequenceClassification were not initialized from the model checkpoint at bert-base-uncased and are newly initialized: ['classifier.bias', 'classifier.weight']\n",
      "You should probably TRAIN this model on a down-stream task to be able to use it for predictions and inference.\n",
      "100%|██████████| 78/78 [02:55<00:00,  2.25s/it]\n"
     ]
    },
    {
     "name": "stdout",
     "output_type": "stream",
     "text": [
      "Fold 2/5, Validation Loss: 1.2049\n"
     ]
    },
    {
     "name": "stderr",
     "output_type": "stream",
     "text": [
      "Some weights of BertForSequenceClassification were not initialized from the model checkpoint at bert-base-uncased and are newly initialized: ['classifier.bias', 'classifier.weight']\n",
      "You should probably TRAIN this model on a down-stream task to be able to use it for predictions and inference.\n",
      "100%|██████████| 78/78 [02:57<00:00,  2.28s/it]\n"
     ]
    },
    {
     "name": "stdout",
     "output_type": "stream",
     "text": [
      "Fold 3/5, Validation Loss: 1.1308\n"
     ]
    },
    {
     "name": "stderr",
     "output_type": "stream",
     "text": [
      "Some weights of BertForSequenceClassification were not initialized from the model checkpoint at bert-base-uncased and are newly initialized: ['classifier.bias', 'classifier.weight']\n",
      "You should probably TRAIN this model on a down-stream task to be able to use it for predictions and inference.\n",
      "100%|██████████| 78/78 [02:56<00:00,  2.26s/it]\n"
     ]
    },
    {
     "name": "stdout",
     "output_type": "stream",
     "text": [
      "Fold 4/5, Validation Loss: 1.1216\n"
     ]
    },
    {
     "name": "stderr",
     "output_type": "stream",
     "text": [
      "Some weights of BertForSequenceClassification were not initialized from the model checkpoint at bert-base-uncased and are newly initialized: ['classifier.bias', 'classifier.weight']\n",
      "You should probably TRAIN this model on a down-stream task to be able to use it for predictions and inference.\n",
      "100%|██████████| 78/78 [02:57<00:00,  2.28s/it]\n"
     ]
    },
    {
     "name": "stdout",
     "output_type": "stream",
     "text": [
      "Fold 5/5, Validation Loss: 1.2208\n",
      "Evaluating hyperparameters: {'num_train_epochs': 2, 'learning_rate': 0.01, 'weight_decay': 0.05}\n"
     ]
    },
    {
     "name": "stderr",
     "output_type": "stream",
     "text": [
      "Some weights of BertForSequenceClassification were not initialized from the model checkpoint at bert-base-uncased and are newly initialized: ['classifier.bias', 'classifier.weight']\n",
      "You should probably TRAIN this model on a down-stream task to be able to use it for predictions and inference.\n",
      "100%|██████████| 78/78 [02:56<00:00,  2.26s/it]\n",
      "100%|██████████| 78/78 [02:56<00:00,  2.26s/it]\n"
     ]
    },
    {
     "name": "stdout",
     "output_type": "stream",
     "text": [
      "Fold 1/5, Validation Loss: 1.1133\n"
     ]
    },
    {
     "name": "stderr",
     "output_type": "stream",
     "text": [
      "Some weights of BertForSequenceClassification were not initialized from the model checkpoint at bert-base-uncased and are newly initialized: ['classifier.bias', 'classifier.weight']\n",
      "You should probably TRAIN this model on a down-stream task to be able to use it for predictions and inference.\n",
      "100%|██████████| 78/78 [02:56<00:00,  2.27s/it]\n",
      "100%|██████████| 78/78 [02:56<00:00,  2.26s/it]\n"
     ]
    },
    {
     "name": "stdout",
     "output_type": "stream",
     "text": [
      "Fold 2/5, Validation Loss: 1.1820\n"
     ]
    },
    {
     "name": "stderr",
     "output_type": "stream",
     "text": [
      "Some weights of BertForSequenceClassification were not initialized from the model checkpoint at bert-base-uncased and are newly initialized: ['classifier.bias', 'classifier.weight']\n",
      "You should probably TRAIN this model on a down-stream task to be able to use it for predictions and inference.\n",
      "100%|██████████| 78/78 [02:55<00:00,  2.26s/it]\n",
      "100%|██████████| 78/78 [02:55<00:00,  2.25s/it]\n"
     ]
    },
    {
     "name": "stdout",
     "output_type": "stream",
     "text": [
      "Fold 3/5, Validation Loss: 1.1040\n"
     ]
    },
    {
     "name": "stderr",
     "output_type": "stream",
     "text": [
      "Some weights of BertForSequenceClassification were not initialized from the model checkpoint at bert-base-uncased and are newly initialized: ['classifier.bias', 'classifier.weight']\n",
      "You should probably TRAIN this model on a down-stream task to be able to use it for predictions and inference.\n",
      "100%|██████████| 78/78 [02:56<00:00,  2.26s/it]\n",
      "100%|██████████| 78/78 [02:55<00:00,  2.25s/it]\n"
     ]
    },
    {
     "name": "stdout",
     "output_type": "stream",
     "text": [
      "Fold 4/5, Validation Loss: 1.0972\n"
     ]
    },
    {
     "name": "stderr",
     "output_type": "stream",
     "text": [
      "Some weights of BertForSequenceClassification were not initialized from the model checkpoint at bert-base-uncased and are newly initialized: ['classifier.bias', 'classifier.weight']\n",
      "You should probably TRAIN this model on a down-stream task to be able to use it for predictions and inference.\n",
      "100%|██████████| 78/78 [02:54<00:00,  2.24s/it]\n",
      "100%|██████████| 78/78 [02:54<00:00,  2.24s/it]\n"
     ]
    },
    {
     "name": "stdout",
     "output_type": "stream",
     "text": [
      "Fold 5/5, Validation Loss: 1.1160\n",
      "Evaluating hyperparameters: {'num_train_epochs': 3, 'learning_rate': 1e-05, 'weight_decay': 0.1}\n"
     ]
    },
    {
     "name": "stderr",
     "output_type": "stream",
     "text": [
      "Some weights of BertForSequenceClassification were not initialized from the model checkpoint at bert-base-uncased and are newly initialized: ['classifier.bias', 'classifier.weight']\n",
      "You should probably TRAIN this model on a down-stream task to be able to use it for predictions and inference.\n",
      "100%|██████████| 78/78 [02:54<00:00,  2.24s/it]\n",
      "100%|██████████| 78/78 [02:55<00:00,  2.25s/it]\n",
      "100%|██████████| 78/78 [02:55<00:00,  2.25s/it]\n"
     ]
    },
    {
     "name": "stdout",
     "output_type": "stream",
     "text": [
      "Fold 1/5, Validation Loss: 0.5115\n"
     ]
    },
    {
     "name": "stderr",
     "output_type": "stream",
     "text": [
      "Some weights of BertForSequenceClassification were not initialized from the model checkpoint at bert-base-uncased and are newly initialized: ['classifier.bias', 'classifier.weight']\n",
      "You should probably TRAIN this model on a down-stream task to be able to use it for predictions and inference.\n",
      "100%|██████████| 78/78 [02:56<00:00,  2.26s/it]\n",
      "100%|██████████| 78/78 [02:56<00:00,  2.26s/it]\n",
      "100%|██████████| 78/78 [02:56<00:00,  2.26s/it]\n"
     ]
    },
    {
     "name": "stdout",
     "output_type": "stream",
     "text": [
      "Fold 2/5, Validation Loss: 0.4826\n"
     ]
    },
    {
     "name": "stderr",
     "output_type": "stream",
     "text": [
      "Some weights of BertForSequenceClassification were not initialized from the model checkpoint at bert-base-uncased and are newly initialized: ['classifier.bias', 'classifier.weight']\n",
      "You should probably TRAIN this model on a down-stream task to be able to use it for predictions and inference.\n",
      "100%|██████████| 78/78 [02:56<00:00,  2.26s/it]\n",
      "100%|██████████| 78/78 [02:56<00:00,  2.26s/it]\n",
      "100%|██████████| 78/78 [02:56<00:00,  2.26s/it]\n"
     ]
    },
    {
     "name": "stdout",
     "output_type": "stream",
     "text": [
      "Fold 3/5, Validation Loss: 0.5485\n"
     ]
    },
    {
     "name": "stderr",
     "output_type": "stream",
     "text": [
      "Some weights of BertForSequenceClassification were not initialized from the model checkpoint at bert-base-uncased and are newly initialized: ['classifier.bias', 'classifier.weight']\n",
      "You should probably TRAIN this model on a down-stream task to be able to use it for predictions and inference.\n",
      "100%|██████████| 78/78 [02:57<00:00,  2.27s/it]\n",
      "100%|██████████| 78/78 [02:56<00:00,  2.26s/it]\n",
      "100%|██████████| 78/78 [02:55<00:00,  2.25s/it]\n"
     ]
    },
    {
     "name": "stdout",
     "output_type": "stream",
     "text": [
      "Fold 4/5, Validation Loss: 0.5174\n"
     ]
    },
    {
     "name": "stderr",
     "output_type": "stream",
     "text": [
      "Some weights of BertForSequenceClassification were not initialized from the model checkpoint at bert-base-uncased and are newly initialized: ['classifier.bias', 'classifier.weight']\n",
      "You should probably TRAIN this model on a down-stream task to be able to use it for predictions and inference.\n",
      "100%|██████████| 78/78 [02:56<00:00,  2.26s/it]\n",
      "100%|██████████| 78/78 [02:55<00:00,  2.26s/it]\n",
      "100%|██████████| 78/78 [02:56<00:00,  2.26s/it]\n"
     ]
    },
    {
     "name": "stdout",
     "output_type": "stream",
     "text": [
      "Fold 5/5, Validation Loss: 0.5552\n",
      "Evaluating hyperparameters: {'num_train_epochs': 5, 'learning_rate': 0.01, 'weight_decay': 0.05}\n"
     ]
    },
    {
     "name": "stderr",
     "output_type": "stream",
     "text": [
      "Some weights of BertForSequenceClassification were not initialized from the model checkpoint at bert-base-uncased and are newly initialized: ['classifier.bias', 'classifier.weight']\n",
      "You should probably TRAIN this model on a down-stream task to be able to use it for predictions and inference.\n",
      "100%|██████████| 78/78 [02:56<00:00,  2.26s/it]\n",
      "100%|██████████| 78/78 [02:56<00:00,  2.26s/it]\n",
      "100%|██████████| 78/78 [02:56<00:00,  2.27s/it]\n",
      "100%|██████████| 78/78 [02:55<00:00,  2.26s/it]\n",
      "100%|██████████| 78/78 [02:55<00:00,  2.25s/it]\n"
     ]
    },
    {
     "name": "stdout",
     "output_type": "stream",
     "text": [
      "Fold 1/5, Validation Loss: 1.1092\n"
     ]
    },
    {
     "name": "stderr",
     "output_type": "stream",
     "text": [
      "Some weights of BertForSequenceClassification were not initialized from the model checkpoint at bert-base-uncased and are newly initialized: ['classifier.bias', 'classifier.weight']\n",
      "You should probably TRAIN this model on a down-stream task to be able to use it for predictions and inference.\n",
      "100%|██████████| 78/78 [02:56<00:00,  2.26s/it]\n",
      "100%|██████████| 78/78 [02:55<00:00,  2.25s/it]\n",
      "100%|██████████| 78/78 [02:56<00:00,  2.26s/it]\n",
      "100%|██████████| 78/78 [02:56<00:00,  2.26s/it]\n",
      "100%|██████████| 78/78 [02:56<00:00,  2.26s/it]\n"
     ]
    },
    {
     "name": "stdout",
     "output_type": "stream",
     "text": [
      "Fold 2/5, Validation Loss: 1.1099\n"
     ]
    },
    {
     "name": "stderr",
     "output_type": "stream",
     "text": [
      "Some weights of BertForSequenceClassification were not initialized from the model checkpoint at bert-base-uncased and are newly initialized: ['classifier.bias', 'classifier.weight']\n",
      "You should probably TRAIN this model on a down-stream task to be able to use it for predictions and inference.\n",
      "100%|██████████| 78/78 [02:55<00:00,  2.25s/it]\n",
      "100%|██████████| 78/78 [02:55<00:00,  2.25s/it]\n",
      "100%|██████████| 78/78 [02:55<00:00,  2.25s/it]\n",
      "100%|██████████| 78/78 [02:56<00:00,  2.26s/it]\n",
      "100%|██████████| 78/78 [02:55<00:00,  2.26s/it]\n"
     ]
    },
    {
     "name": "stdout",
     "output_type": "stream",
     "text": [
      "Fold 3/5, Validation Loss: 1.1091\n"
     ]
    },
    {
     "name": "stderr",
     "output_type": "stream",
     "text": [
      "Some weights of BertForSequenceClassification were not initialized from the model checkpoint at bert-base-uncased and are newly initialized: ['classifier.bias', 'classifier.weight']\n",
      "You should probably TRAIN this model on a down-stream task to be able to use it for predictions and inference.\n",
      "100%|██████████| 78/78 [02:56<00:00,  2.26s/it]\n",
      "100%|██████████| 78/78 [02:56<00:00,  2.27s/it]\n",
      "100%|██████████| 78/78 [02:56<00:00,  2.26s/it]\n",
      "100%|██████████| 78/78 [02:57<00:00,  2.27s/it]\n",
      "100%|██████████| 78/78 [02:57<00:00,  2.27s/it]\n"
     ]
    },
    {
     "name": "stdout",
     "output_type": "stream",
     "text": [
      "Fold 4/5, Validation Loss: 1.1146\n"
     ]
    },
    {
     "name": "stderr",
     "output_type": "stream",
     "text": [
      "Some weights of BertForSequenceClassification were not initialized from the model checkpoint at bert-base-uncased and are newly initialized: ['classifier.bias', 'classifier.weight']\n",
      "You should probably TRAIN this model on a down-stream task to be able to use it for predictions and inference.\n",
      "100%|██████████| 78/78 [02:57<00:00,  2.27s/it]\n",
      "100%|██████████| 78/78 [02:57<00:00,  2.28s/it]\n",
      "100%|██████████| 78/78 [02:57<00:00,  2.27s/it]\n",
      "100%|██████████| 78/78 [02:56<00:00,  2.27s/it]\n",
      "100%|██████████| 78/78 [02:56<00:00,  2.27s/it]\n"
     ]
    },
    {
     "name": "stdout",
     "output_type": "stream",
     "text": [
      "Fold 5/5, Validation Loss: 1.1138\n",
      "Evaluating hyperparameters: {'num_train_epochs': 5, 'learning_rate': 0.001, 'weight_decay': 0.5}\n"
     ]
    },
    {
     "name": "stderr",
     "output_type": "stream",
     "text": [
      "Some weights of BertForSequenceClassification were not initialized from the model checkpoint at bert-base-uncased and are newly initialized: ['classifier.bias', 'classifier.weight']\n",
      "You should probably TRAIN this model on a down-stream task to be able to use it for predictions and inference.\n",
      "100%|██████████| 78/78 [02:55<00:00,  2.25s/it]\n",
      "100%|██████████| 78/78 [02:55<00:00,  2.25s/it]\n",
      "100%|██████████| 78/78 [02:55<00:00,  2.25s/it]\n",
      "100%|██████████| 78/78 [02:55<00:00,  2.25s/it]\n",
      "100%|██████████| 78/78 [02:55<00:00,  2.25s/it]\n"
     ]
    },
    {
     "name": "stdout",
     "output_type": "stream",
     "text": [
      "Fold 1/5, Validation Loss: 1.0955\n"
     ]
    },
    {
     "name": "stderr",
     "output_type": "stream",
     "text": [
      "Some weights of BertForSequenceClassification were not initialized from the model checkpoint at bert-base-uncased and are newly initialized: ['classifier.bias', 'classifier.weight']\n",
      "You should probably TRAIN this model on a down-stream task to be able to use it for predictions and inference.\n",
      "100%|██████████| 78/78 [02:56<00:00,  2.26s/it]\n",
      "100%|██████████| 78/78 [02:56<00:00,  2.26s/it]\n",
      "100%|██████████| 78/78 [02:56<00:00,  2.26s/it]\n",
      "100%|██████████| 78/78 [02:56<00:00,  2.26s/it]\n",
      "100%|██████████| 78/78 [02:56<00:00,  2.26s/it]\n"
     ]
    },
    {
     "name": "stdout",
     "output_type": "stream",
     "text": [
      "Fold 2/5, Validation Loss: 1.1010\n"
     ]
    },
    {
     "name": "stderr",
     "output_type": "stream",
     "text": [
      "Some weights of BertForSequenceClassification were not initialized from the model checkpoint at bert-base-uncased and are newly initialized: ['classifier.bias', 'classifier.weight']\n",
      "You should probably TRAIN this model on a down-stream task to be able to use it for predictions and inference.\n",
      "100%|██████████| 78/78 [02:55<00:00,  2.25s/it]\n",
      "100%|██████████| 78/78 [02:55<00:00,  2.26s/it]\n",
      "100%|██████████| 78/78 [02:55<00:00,  2.25s/it]\n",
      "100%|██████████| 78/78 [02:56<00:00,  2.26s/it]\n",
      "100%|██████████| 78/78 [02:55<00:00,  2.25s/it]\n"
     ]
    },
    {
     "name": "stdout",
     "output_type": "stream",
     "text": [
      "Fold 3/5, Validation Loss: 1.1036\n"
     ]
    },
    {
     "name": "stderr",
     "output_type": "stream",
     "text": [
      "Some weights of BertForSequenceClassification were not initialized from the model checkpoint at bert-base-uncased and are newly initialized: ['classifier.bias', 'classifier.weight']\n",
      "You should probably TRAIN this model on a down-stream task to be able to use it for predictions and inference.\n",
      "100%|██████████| 78/78 [02:55<00:00,  2.25s/it]\n",
      "100%|██████████| 78/78 [02:56<00:00,  2.26s/it]\n",
      "100%|██████████| 78/78 [02:56<00:00,  2.26s/it]\n",
      "100%|██████████| 78/78 [02:55<00:00,  2.25s/it]\n",
      "100%|██████████| 78/78 [02:55<00:00,  2.25s/it]\n"
     ]
    },
    {
     "name": "stdout",
     "output_type": "stream",
     "text": [
      "Fold 4/5, Validation Loss: 1.0969\n"
     ]
    },
    {
     "name": "stderr",
     "output_type": "stream",
     "text": [
      "Some weights of BertForSequenceClassification were not initialized from the model checkpoint at bert-base-uncased and are newly initialized: ['classifier.bias', 'classifier.weight']\n",
      "You should probably TRAIN this model on a down-stream task to be able to use it for predictions and inference.\n",
      "100%|██████████| 78/78 [02:56<00:00,  2.26s/it]\n",
      "100%|██████████| 78/78 [02:56<00:00,  2.26s/it]\n",
      "100%|██████████| 78/78 [02:55<00:00,  2.25s/it]\n",
      "100%|██████████| 78/78 [02:54<00:00,  2.24s/it]\n",
      "100%|██████████| 78/78 [02:55<00:00,  2.25s/it]\n"
     ]
    },
    {
     "name": "stdout",
     "output_type": "stream",
     "text": [
      "Fold 5/5, Validation Loss: 1.0996\n",
      "Evaluating hyperparameters: {'num_train_epochs': 1, 'learning_rate': 0.0001, 'weight_decay': 0.01}\n"
     ]
    },
    {
     "name": "stderr",
     "output_type": "stream",
     "text": [
      "Some weights of BertForSequenceClassification were not initialized from the model checkpoint at bert-base-uncased and are newly initialized: ['classifier.bias', 'classifier.weight']\n",
      "You should probably TRAIN this model on a down-stream task to be able to use it for predictions and inference.\n",
      "100%|██████████| 78/78 [02:56<00:00,  2.26s/it]\n"
     ]
    },
    {
     "name": "stdout",
     "output_type": "stream",
     "text": [
      "Fold 1/5, Validation Loss: 0.4675\n"
     ]
    },
    {
     "name": "stderr",
     "output_type": "stream",
     "text": [
      "Some weights of BertForSequenceClassification were not initialized from the model checkpoint at bert-base-uncased and are newly initialized: ['classifier.bias', 'classifier.weight']\n",
      "You should probably TRAIN this model on a down-stream task to be able to use it for predictions and inference.\n",
      "100%|██████████| 78/78 [02:56<00:00,  2.26s/it]\n"
     ]
    },
    {
     "name": "stdout",
     "output_type": "stream",
     "text": [
      "Fold 2/5, Validation Loss: 0.3923\n"
     ]
    },
    {
     "name": "stderr",
     "output_type": "stream",
     "text": [
      "Some weights of BertForSequenceClassification were not initialized from the model checkpoint at bert-base-uncased and are newly initialized: ['classifier.bias', 'classifier.weight']\n",
      "You should probably TRAIN this model on a down-stream task to be able to use it for predictions and inference.\n",
      "100%|██████████| 78/78 [02:55<00:00,  2.25s/it]\n"
     ]
    },
    {
     "name": "stdout",
     "output_type": "stream",
     "text": [
      "Fold 3/5, Validation Loss: 0.4658\n"
     ]
    },
    {
     "name": "stderr",
     "output_type": "stream",
     "text": [
      "Some weights of BertForSequenceClassification were not initialized from the model checkpoint at bert-base-uncased and are newly initialized: ['classifier.bias', 'classifier.weight']\n",
      "You should probably TRAIN this model on a down-stream task to be able to use it for predictions and inference.\n",
      "100%|██████████| 78/78 [02:56<00:00,  2.26s/it]\n"
     ]
    },
    {
     "name": "stdout",
     "output_type": "stream",
     "text": [
      "Fold 4/5, Validation Loss: 0.5676\n"
     ]
    },
    {
     "name": "stderr",
     "output_type": "stream",
     "text": [
      "Some weights of BertForSequenceClassification were not initialized from the model checkpoint at bert-base-uncased and are newly initialized: ['classifier.bias', 'classifier.weight']\n",
      "You should probably TRAIN this model on a down-stream task to be able to use it for predictions and inference.\n",
      "100%|██████████| 78/78 [02:56<00:00,  2.27s/it]\n"
     ]
    },
    {
     "name": "stdout",
     "output_type": "stream",
     "text": [
      "Fold 5/5, Validation Loss: 0.4237\n",
      "Evaluating hyperparameters: {'num_train_epochs': 4, 'learning_rate': 0.01, 'weight_decay': 0.5}\n"
     ]
    },
    {
     "name": "stderr",
     "output_type": "stream",
     "text": [
      "Some weights of BertForSequenceClassification were not initialized from the model checkpoint at bert-base-uncased and are newly initialized: ['classifier.bias', 'classifier.weight']\n",
      "You should probably TRAIN this model on a down-stream task to be able to use it for predictions and inference.\n",
      "100%|██████████| 78/78 [02:55<00:00,  2.26s/it]\n",
      "100%|██████████| 78/78 [02:55<00:00,  2.26s/it]\n",
      "100%|██████████| 78/78 [02:55<00:00,  2.25s/it]\n",
      "100%|██████████| 78/78 [02:56<00:00,  2.26s/it]\n"
     ]
    },
    {
     "name": "stdout",
     "output_type": "stream",
     "text": [
      "Fold 1/5, Validation Loss: 1.1000\n"
     ]
    },
    {
     "name": "stderr",
     "output_type": "stream",
     "text": [
      "Some weights of BertForSequenceClassification were not initialized from the model checkpoint at bert-base-uncased and are newly initialized: ['classifier.bias', 'classifier.weight']\n",
      "You should probably TRAIN this model on a down-stream task to be able to use it for predictions and inference.\n",
      "100%|██████████| 78/78 [02:55<00:00,  2.25s/it]\n",
      "100%|██████████| 78/78 [02:55<00:00,  2.24s/it]\n",
      "100%|██████████| 78/78 [02:55<00:00,  2.25s/it]\n",
      "100%|██████████| 78/78 [02:55<00:00,  2.24s/it]\n"
     ]
    },
    {
     "name": "stdout",
     "output_type": "stream",
     "text": [
      "Fold 2/5, Validation Loss: 1.1140\n"
     ]
    },
    {
     "name": "stderr",
     "output_type": "stream",
     "text": [
      "Some weights of BertForSequenceClassification were not initialized from the model checkpoint at bert-base-uncased and are newly initialized: ['classifier.bias', 'classifier.weight']\n",
      "You should probably TRAIN this model on a down-stream task to be able to use it for predictions and inference.\n",
      "100%|██████████| 78/78 [02:55<00:00,  2.25s/it]\n",
      "100%|██████████| 78/78 [02:55<00:00,  2.25s/it]\n",
      "100%|██████████| 78/78 [02:55<00:00,  2.26s/it]\n",
      "100%|██████████| 78/78 [02:56<00:00,  2.26s/it]\n"
     ]
    },
    {
     "name": "stdout",
     "output_type": "stream",
     "text": [
      "Fold 3/5, Validation Loss: 1.1279\n"
     ]
    },
    {
     "name": "stderr",
     "output_type": "stream",
     "text": [
      "Some weights of BertForSequenceClassification were not initialized from the model checkpoint at bert-base-uncased and are newly initialized: ['classifier.bias', 'classifier.weight']\n",
      "You should probably TRAIN this model on a down-stream task to be able to use it for predictions and inference.\n",
      "100%|██████████| 78/78 [02:55<00:00,  2.26s/it]\n",
      "100%|██████████| 78/78 [02:55<00:00,  2.25s/it]\n",
      "100%|██████████| 78/78 [02:54<00:00,  2.24s/it]\n",
      "100%|██████████| 78/78 [02:55<00:00,  2.25s/it]\n"
     ]
    },
    {
     "name": "stdout",
     "output_type": "stream",
     "text": [
      "Fold 4/5, Validation Loss: 1.0974\n"
     ]
    },
    {
     "name": "stderr",
     "output_type": "stream",
     "text": [
      "Some weights of BertForSequenceClassification were not initialized from the model checkpoint at bert-base-uncased and are newly initialized: ['classifier.bias', 'classifier.weight']\n",
      "You should probably TRAIN this model on a down-stream task to be able to use it for predictions and inference.\n",
      "100%|██████████| 78/78 [02:56<00:00,  2.26s/it]\n",
      "100%|██████████| 78/78 [02:55<00:00,  2.25s/it]\n",
      "100%|██████████| 78/78 [02:55<00:00,  2.25s/it]\n",
      "100%|██████████| 78/78 [02:55<00:00,  2.25s/it]\n"
     ]
    },
    {
     "name": "stdout",
     "output_type": "stream",
     "text": [
      "Fold 5/5, Validation Loss: 1.1075\n",
      "Evaluating hyperparameters: {'num_train_epochs': 1, 'learning_rate': 0.01, 'weight_decay': 0.5}\n"
     ]
    },
    {
     "name": "stderr",
     "output_type": "stream",
     "text": [
      "Some weights of BertForSequenceClassification were not initialized from the model checkpoint at bert-base-uncased and are newly initialized: ['classifier.bias', 'classifier.weight']\n",
      "You should probably TRAIN this model on a down-stream task to be able to use it for predictions and inference.\n",
      "100%|██████████| 78/78 [02:55<00:00,  2.25s/it]\n"
     ]
    },
    {
     "name": "stdout",
     "output_type": "stream",
     "text": [
      "Fold 1/5, Validation Loss: 1.1160\n"
     ]
    },
    {
     "name": "stderr",
     "output_type": "stream",
     "text": [
      "Some weights of BertForSequenceClassification were not initialized from the model checkpoint at bert-base-uncased and are newly initialized: ['classifier.bias', 'classifier.weight']\n",
      "You should probably TRAIN this model on a down-stream task to be able to use it for predictions and inference.\n",
      "100%|██████████| 78/78 [02:56<00:00,  2.26s/it]\n"
     ]
    },
    {
     "name": "stdout",
     "output_type": "stream",
     "text": [
      "Fold 2/5, Validation Loss: 1.1183\n"
     ]
    },
    {
     "name": "stderr",
     "output_type": "stream",
     "text": [
      "Some weights of BertForSequenceClassification were not initialized from the model checkpoint at bert-base-uncased and are newly initialized: ['classifier.bias', 'classifier.weight']\n",
      "You should probably TRAIN this model on a down-stream task to be able to use it for predictions and inference.\n",
      "100%|██████████| 78/78 [02:55<00:00,  2.25s/it]\n"
     ]
    },
    {
     "name": "stdout",
     "output_type": "stream",
     "text": [
      "Fold 3/5, Validation Loss: 1.1020\n"
     ]
    },
    {
     "name": "stderr",
     "output_type": "stream",
     "text": [
      "Some weights of BertForSequenceClassification were not initialized from the model checkpoint at bert-base-uncased and are newly initialized: ['classifier.bias', 'classifier.weight']\n",
      "You should probably TRAIN this model on a down-stream task to be able to use it for predictions and inference.\n",
      "100%|██████████| 78/78 [02:55<00:00,  2.25s/it]\n"
     ]
    },
    {
     "name": "stdout",
     "output_type": "stream",
     "text": [
      "Fold 4/5, Validation Loss: 1.1337\n"
     ]
    },
    {
     "name": "stderr",
     "output_type": "stream",
     "text": [
      "Some weights of BertForSequenceClassification were not initialized from the model checkpoint at bert-base-uncased and are newly initialized: ['classifier.bias', 'classifier.weight']\n",
      "You should probably TRAIN this model on a down-stream task to be able to use it for predictions and inference.\n",
      "100%|██████████| 78/78 [02:55<00:00,  2.25s/it]\n"
     ]
    },
    {
     "name": "stdout",
     "output_type": "stream",
     "text": [
      "Fold 5/5, Validation Loss: 1.1557\n",
      "Evaluating hyperparameters: {'num_train_epochs': 4, 'learning_rate': 0.001, 'weight_decay': 0.05}\n"
     ]
    },
    {
     "name": "stderr",
     "output_type": "stream",
     "text": [
      "Some weights of BertForSequenceClassification were not initialized from the model checkpoint at bert-base-uncased and are newly initialized: ['classifier.bias', 'classifier.weight']\n",
      "You should probably TRAIN this model on a down-stream task to be able to use it for predictions and inference.\n",
      "100%|██████████| 78/78 [02:55<00:00,  2.25s/it]\n",
      "100%|██████████| 78/78 [02:55<00:00,  2.25s/it]\n",
      "100%|██████████| 78/78 [02:55<00:00,  2.25s/it]\n",
      "100%|██████████| 78/78 [02:55<00:00,  2.25s/it]\n"
     ]
    },
    {
     "name": "stdout",
     "output_type": "stream",
     "text": [
      "Fold 1/5, Validation Loss: 1.0957\n"
     ]
    },
    {
     "name": "stderr",
     "output_type": "stream",
     "text": [
      "Some weights of BertForSequenceClassification were not initialized from the model checkpoint at bert-base-uncased and are newly initialized: ['classifier.bias', 'classifier.weight']\n",
      "You should probably TRAIN this model on a down-stream task to be able to use it for predictions and inference.\n",
      "100%|██████████| 78/78 [02:55<00:00,  2.25s/it]\n",
      "100%|██████████| 78/78 [02:55<00:00,  2.25s/it]\n",
      "100%|██████████| 78/78 [02:55<00:00,  2.25s/it]\n",
      "100%|██████████| 78/78 [02:55<00:00,  2.25s/it]\n"
     ]
    },
    {
     "name": "stdout",
     "output_type": "stream",
     "text": [
      "Fold 2/5, Validation Loss: 1.1013\n"
     ]
    },
    {
     "name": "stderr",
     "output_type": "stream",
     "text": [
      "Some weights of BertForSequenceClassification were not initialized from the model checkpoint at bert-base-uncased and are newly initialized: ['classifier.bias', 'classifier.weight']\n",
      "You should probably TRAIN this model on a down-stream task to be able to use it for predictions and inference.\n",
      "100%|██████████| 78/78 [02:55<00:00,  2.25s/it]\n",
      "100%|██████████| 78/78 [02:55<00:00,  2.25s/it]\n",
      "100%|██████████| 78/78 [02:55<00:00,  2.25s/it]\n",
      "100%|██████████| 78/78 [02:56<00:00,  2.26s/it]\n"
     ]
    },
    {
     "name": "stdout",
     "output_type": "stream",
     "text": [
      "Fold 3/5, Validation Loss: 1.1016\n"
     ]
    },
    {
     "name": "stderr",
     "output_type": "stream",
     "text": [
      "Some weights of BertForSequenceClassification were not initialized from the model checkpoint at bert-base-uncased and are newly initialized: ['classifier.bias', 'classifier.weight']\n",
      "You should probably TRAIN this model on a down-stream task to be able to use it for predictions and inference.\n",
      "100%|██████████| 78/78 [02:55<00:00,  2.25s/it]\n",
      "100%|██████████| 78/78 [02:55<00:00,  2.25s/it]\n",
      "100%|██████████| 78/78 [02:55<00:00,  2.25s/it]\n",
      "100%|██████████| 78/78 [02:55<00:00,  2.25s/it]\n"
     ]
    },
    {
     "name": "stdout",
     "output_type": "stream",
     "text": [
      "Fold 4/5, Validation Loss: 1.0982\n"
     ]
    },
    {
     "name": "stderr",
     "output_type": "stream",
     "text": [
      "Some weights of BertForSequenceClassification were not initialized from the model checkpoint at bert-base-uncased and are newly initialized: ['classifier.bias', 'classifier.weight']\n",
      "You should probably TRAIN this model on a down-stream task to be able to use it for predictions and inference.\n",
      "100%|██████████| 78/78 [02:55<00:00,  2.25s/it]\n",
      "100%|██████████| 78/78 [02:56<00:00,  2.26s/it]\n",
      "100%|██████████| 78/78 [02:55<00:00,  2.26s/it]\n",
      "100%|██████████| 78/78 [02:55<00:00,  2.25s/it]\n"
     ]
    },
    {
     "name": "stdout",
     "output_type": "stream",
     "text": [
      "Fold 5/5, Validation Loss: 1.0987\n",
      "Evaluating hyperparameters: {'num_train_epochs': 4, 'learning_rate': 0.01, 'weight_decay': 0.05}\n"
     ]
    },
    {
     "name": "stderr",
     "output_type": "stream",
     "text": [
      "Some weights of BertForSequenceClassification were not initialized from the model checkpoint at bert-base-uncased and are newly initialized: ['classifier.bias', 'classifier.weight']\n",
      "You should probably TRAIN this model on a down-stream task to be able to use it for predictions and inference.\n",
      "100%|██████████| 78/78 [02:55<00:00,  2.25s/it]\n",
      "100%|██████████| 78/78 [02:55<00:00,  2.25s/it]\n",
      "100%|██████████| 78/78 [02:56<00:00,  2.26s/it]\n",
      "100%|██████████| 78/78 [02:56<00:00,  2.26s/it]\n"
     ]
    },
    {
     "name": "stdout",
     "output_type": "stream",
     "text": [
      "Fold 1/5, Validation Loss: 1.1051\n"
     ]
    },
    {
     "name": "stderr",
     "output_type": "stream",
     "text": [
      "Some weights of BertForSequenceClassification were not initialized from the model checkpoint at bert-base-uncased and are newly initialized: ['classifier.bias', 'classifier.weight']\n",
      "You should probably TRAIN this model on a down-stream task to be able to use it for predictions and inference.\n",
      "100%|██████████| 78/78 [02:56<00:00,  2.26s/it]\n",
      "100%|██████████| 78/78 [02:56<00:00,  2.26s/it]\n",
      "100%|██████████| 78/78 [02:55<00:00,  2.26s/it]\n",
      "100%|██████████| 78/78 [02:55<00:00,  2.25s/it]\n"
     ]
    },
    {
     "name": "stdout",
     "output_type": "stream",
     "text": [
      "Fold 2/5, Validation Loss: 1.1034\n"
     ]
    },
    {
     "name": "stderr",
     "output_type": "stream",
     "text": [
      "Some weights of BertForSequenceClassification were not initialized from the model checkpoint at bert-base-uncased and are newly initialized: ['classifier.bias', 'classifier.weight']\n",
      "You should probably TRAIN this model on a down-stream task to be able to use it for predictions and inference.\n",
      "100%|██████████| 78/78 [02:55<00:00,  2.25s/it]\n",
      "100%|██████████| 78/78 [02:55<00:00,  2.25s/it]\n",
      "100%|██████████| 78/78 [02:57<00:00,  2.28s/it]\n",
      "100%|██████████| 78/78 [03:00<00:00,  2.32s/it]\n"
     ]
    },
    {
     "name": "stdout",
     "output_type": "stream",
     "text": [
      "Fold 3/5, Validation Loss: 1.1173\n"
     ]
    },
    {
     "name": "stderr",
     "output_type": "stream",
     "text": [
      "Some weights of BertForSequenceClassification were not initialized from the model checkpoint at bert-base-uncased and are newly initialized: ['classifier.bias', 'classifier.weight']\n",
      "You should probably TRAIN this model on a down-stream task to be able to use it for predictions and inference.\n",
      "100%|██████████| 78/78 [03:01<00:00,  2.33s/it]\n",
      "100%|██████████| 78/78 [03:02<00:00,  2.34s/it]\n",
      "100%|██████████| 78/78 [03:02<00:00,  2.34s/it]\n",
      "100%|██████████| 78/78 [03:02<00:00,  2.34s/it]\n"
     ]
    },
    {
     "name": "stdout",
     "output_type": "stream",
     "text": [
      "Fold 4/5, Validation Loss: 1.1138\n"
     ]
    },
    {
     "name": "stderr",
     "output_type": "stream",
     "text": [
      "Some weights of BertForSequenceClassification were not initialized from the model checkpoint at bert-base-uncased and are newly initialized: ['classifier.bias', 'classifier.weight']\n",
      "You should probably TRAIN this model on a down-stream task to be able to use it for predictions and inference.\n",
      "100%|██████████| 78/78 [03:02<00:00,  2.34s/it]\n",
      "100%|██████████| 78/78 [02:59<00:00,  2.30s/it]\n",
      "100%|██████████| 78/78 [02:55<00:00,  2.25s/it]\n",
      "100%|██████████| 78/78 [02:55<00:00,  2.25s/it]\n"
     ]
    },
    {
     "name": "stdout",
     "output_type": "stream",
     "text": [
      "Fold 5/5, Validation Loss: 1.1009\n",
      "Evaluating hyperparameters: {'num_train_epochs': 4, 'learning_rate': 1e-05, 'weight_decay': 0.1}\n"
     ]
    },
    {
     "name": "stderr",
     "output_type": "stream",
     "text": [
      "Some weights of BertForSequenceClassification were not initialized from the model checkpoint at bert-base-uncased and are newly initialized: ['classifier.bias', 'classifier.weight']\n",
      "You should probably TRAIN this model on a down-stream task to be able to use it for predictions and inference.\n",
      " 86%|████████▌ | 67/78 [02:34<00:25,  2.30s/it]\n"
     ]
    },
    {
     "ename": "KeyboardInterrupt",
     "evalue": "",
     "output_type": "error",
     "traceback": [
      "\u001b[0;31m---------------------------------------------------------------------------\u001b[0m",
      "\u001b[0;31mKeyboardInterrupt\u001b[0m                         Traceback (most recent call last)",
      "Cell \u001b[0;32mIn[6], line 79\u001b[0m\n\u001b[1;32m     76\u001b[0m weighted_loss \u001b[38;5;241m=\u001b[39m (per_sample_loss \u001b[38;5;241m*\u001b[39m batch[\u001b[38;5;124m\"\u001b[39m\u001b[38;5;124mweights\u001b[39m\u001b[38;5;124m\"\u001b[39m])\u001b[38;5;241m.\u001b[39mmean()\n\u001b[1;32m     78\u001b[0m optimizer\u001b[38;5;241m.\u001b[39mzero_grad()\n\u001b[0;32m---> 79\u001b[0m \u001b[43mweighted_loss\u001b[49m\u001b[38;5;241;43m.\u001b[39;49m\u001b[43mbackward\u001b[49m\u001b[43m(\u001b[49m\u001b[43m)\u001b[49m\n\u001b[1;32m     80\u001b[0m optimizer\u001b[38;5;241m.\u001b[39mstep()\n\u001b[1;32m     81\u001b[0m lr_scheduler\u001b[38;5;241m.\u001b[39mstep()\n",
      "File \u001b[0;32m/opt/anaconda3/envs/CAA02/lib/python3.10/site-packages/torch/_tensor.py:648\u001b[0m, in \u001b[0;36mTensor.backward\u001b[0;34m(self, gradient, retain_graph, create_graph, inputs)\u001b[0m\n\u001b[1;32m    638\u001b[0m \u001b[38;5;28;01mif\u001b[39;00m has_torch_function_unary(\u001b[38;5;28mself\u001b[39m):\n\u001b[1;32m    639\u001b[0m     \u001b[38;5;28;01mreturn\u001b[39;00m handle_torch_function(\n\u001b[1;32m    640\u001b[0m         Tensor\u001b[38;5;241m.\u001b[39mbackward,\n\u001b[1;32m    641\u001b[0m         (\u001b[38;5;28mself\u001b[39m,),\n\u001b[0;32m   (...)\u001b[0m\n\u001b[1;32m    646\u001b[0m         inputs\u001b[38;5;241m=\u001b[39minputs,\n\u001b[1;32m    647\u001b[0m     )\n\u001b[0;32m--> 648\u001b[0m \u001b[43mtorch\u001b[49m\u001b[38;5;241;43m.\u001b[39;49m\u001b[43mautograd\u001b[49m\u001b[38;5;241;43m.\u001b[39;49m\u001b[43mbackward\u001b[49m\u001b[43m(\u001b[49m\n\u001b[1;32m    649\u001b[0m \u001b[43m    \u001b[49m\u001b[38;5;28;43mself\u001b[39;49m\u001b[43m,\u001b[49m\u001b[43m \u001b[49m\u001b[43mgradient\u001b[49m\u001b[43m,\u001b[49m\u001b[43m \u001b[49m\u001b[43mretain_graph\u001b[49m\u001b[43m,\u001b[49m\u001b[43m \u001b[49m\u001b[43mcreate_graph\u001b[49m\u001b[43m,\u001b[49m\u001b[43m \u001b[49m\u001b[43minputs\u001b[49m\u001b[38;5;241;43m=\u001b[39;49m\u001b[43minputs\u001b[49m\n\u001b[1;32m    650\u001b[0m \u001b[43m\u001b[49m\u001b[43m)\u001b[49m\n",
      "File \u001b[0;32m/opt/anaconda3/envs/CAA02/lib/python3.10/site-packages/torch/autograd/__init__.py:353\u001b[0m, in \u001b[0;36mbackward\u001b[0;34m(tensors, grad_tensors, retain_graph, create_graph, grad_variables, inputs)\u001b[0m\n\u001b[1;32m    348\u001b[0m     retain_graph \u001b[38;5;241m=\u001b[39m create_graph\n\u001b[1;32m    350\u001b[0m \u001b[38;5;66;03m# The reason we repeat the same comment below is that\u001b[39;00m\n\u001b[1;32m    351\u001b[0m \u001b[38;5;66;03m# some Python versions print out the first line of a multi-line function\u001b[39;00m\n\u001b[1;32m    352\u001b[0m \u001b[38;5;66;03m# calls in the traceback and some print out the last line\u001b[39;00m\n\u001b[0;32m--> 353\u001b[0m \u001b[43m_engine_run_backward\u001b[49m\u001b[43m(\u001b[49m\n\u001b[1;32m    354\u001b[0m \u001b[43m    \u001b[49m\u001b[43mtensors\u001b[49m\u001b[43m,\u001b[49m\n\u001b[1;32m    355\u001b[0m \u001b[43m    \u001b[49m\u001b[43mgrad_tensors_\u001b[49m\u001b[43m,\u001b[49m\n\u001b[1;32m    356\u001b[0m \u001b[43m    \u001b[49m\u001b[43mretain_graph\u001b[49m\u001b[43m,\u001b[49m\n\u001b[1;32m    357\u001b[0m \u001b[43m    \u001b[49m\u001b[43mcreate_graph\u001b[49m\u001b[43m,\u001b[49m\n\u001b[1;32m    358\u001b[0m \u001b[43m    \u001b[49m\u001b[43minputs\u001b[49m\u001b[43m,\u001b[49m\n\u001b[1;32m    359\u001b[0m \u001b[43m    \u001b[49m\u001b[43mallow_unreachable\u001b[49m\u001b[38;5;241;43m=\u001b[39;49m\u001b[38;5;28;43;01mTrue\u001b[39;49;00m\u001b[43m,\u001b[49m\n\u001b[1;32m    360\u001b[0m \u001b[43m    \u001b[49m\u001b[43maccumulate_grad\u001b[49m\u001b[38;5;241;43m=\u001b[39;49m\u001b[38;5;28;43;01mTrue\u001b[39;49;00m\u001b[43m,\u001b[49m\n\u001b[1;32m    361\u001b[0m \u001b[43m\u001b[49m\u001b[43m)\u001b[49m\n",
      "File \u001b[0;32m/opt/anaconda3/envs/CAA02/lib/python3.10/site-packages/torch/autograd/graph.py:824\u001b[0m, in \u001b[0;36m_engine_run_backward\u001b[0;34m(t_outputs, *args, **kwargs)\u001b[0m\n\u001b[1;32m    822\u001b[0m     unregister_hooks \u001b[38;5;241m=\u001b[39m _register_logging_hooks_on_whole_graph(t_outputs)\n\u001b[1;32m    823\u001b[0m \u001b[38;5;28;01mtry\u001b[39;00m:\n\u001b[0;32m--> 824\u001b[0m     \u001b[38;5;28;01mreturn\u001b[39;00m \u001b[43mVariable\u001b[49m\u001b[38;5;241;43m.\u001b[39;49m\u001b[43m_execution_engine\u001b[49m\u001b[38;5;241;43m.\u001b[39;49m\u001b[43mrun_backward\u001b[49m\u001b[43m(\u001b[49m\u001b[43m  \u001b[49m\u001b[38;5;66;43;03m# Calls into the C++ engine to run the backward pass\u001b[39;49;00m\n\u001b[1;32m    825\u001b[0m \u001b[43m        \u001b[49m\u001b[43mt_outputs\u001b[49m\u001b[43m,\u001b[49m\u001b[43m \u001b[49m\u001b[38;5;241;43m*\u001b[39;49m\u001b[43margs\u001b[49m\u001b[43m,\u001b[49m\u001b[43m \u001b[49m\u001b[38;5;241;43m*\u001b[39;49m\u001b[38;5;241;43m*\u001b[39;49m\u001b[43mkwargs\u001b[49m\n\u001b[1;32m    826\u001b[0m \u001b[43m    \u001b[49m\u001b[43m)\u001b[49m  \u001b[38;5;66;03m# Calls into the C++ engine to run the backward pass\u001b[39;00m\n\u001b[1;32m    827\u001b[0m \u001b[38;5;28;01mfinally\u001b[39;00m:\n\u001b[1;32m    828\u001b[0m     \u001b[38;5;28;01mif\u001b[39;00m attach_logging_hooks:\n",
      "\u001b[0;31mKeyboardInterrupt\u001b[0m: "
     ]
    }
   ],
   "source": [
    "# prepare for cv\n",
    "skf = StratifiedKFold(n_splits=5, shuffle=True, random_state=42)\n",
    "\n",
    "# set random search area\n",
    "def get_hyperparameters():\n",
    "    return {\n",
    "        \"num_train_epochs\": int(np.random.choice([1, 2, 3, 4, 5])),\n",
    "        \"learning_rate\": float(np.random.choice([1e-5, 1e-4, 1e-3, 1e-2])),\n",
    "        \"weight_decay\": float(np.random.choice([0.0, 0.01, 0.05, 0.1, 0.5])),\n",
    "    }\n",
    "\n",
    "try:\n",
    "    all_results = pd.read_csv(\"model BERT (3).csv\")\n",
    "except FileNotFoundError:\n",
    "    all_results = pd.DataFrame(columns=[\"num_train_epochs\", \"learning_rate\", \"weight_decay\", \"eval_loss\"])\n",
    "\n",
    "# start the hyperparameter tuning\n",
    "for _ in range(120): #range(25)\n",
    "    current_hyperparameters = get_hyperparameters()\n",
    "    current_hyperparameters_eval_loss = 0\n",
    "    current_results = {\"num_train_epochs\": [], \"learning_rate\": [], \"weight_decay\": [], \"eval_loss\": []}\n",
    "\n",
    "    # make sure the hyperparameters are not already evaluated\n",
    "    mask = (\n",
    "        (all_results['num_train_epochs'] == current_hyperparameters['num_train_epochs']) &\n",
    "        (all_results['learning_rate'] == current_hyperparameters['learning_rate']) &\n",
    "        (all_results['weight_decay'] == current_hyperparameters['weight_decay'])\n",
    "    )\n",
    "    if mask.any():\n",
    "        print(\"Hyperparameters already evaluated, skipping...\")\n",
    "        continue\n",
    "    else:\n",
    "        print(f\"Evaluating hyperparameters: {current_hyperparameters}\")\n",
    "    \n",
    "    # tuning hyperparameters\n",
    "    for fold, (train_idx, val_idx) in enumerate(skf.split(df_train, df_train[\"label\"])):\n",
    "\n",
    "        # get the folds\n",
    "        df_fold_train = df_train.iloc[train_idx]\n",
    "        df_fold_val = df_train.iloc[val_idx]\n",
    "\n",
    "        # dataset preparation for the model\n",
    "        train_dataset = WeightedTextDataset(df_fold_train, tokenizer, get_weight_map(df_fold_train))\n",
    "        train_loader = DataLoader(train_dataset, batch_size=16, shuffle=True)\n",
    "\n",
    "        val_dataset = WeightedTextDataset(df_fold_val, tokenizer, get_weight_map(df_fold_val))\n",
    "        val_loader = DataLoader(val_dataset, batch_size=16, shuffle=False)\n",
    "\n",
    "        # define the model\n",
    "        device = torch.device(\"cpu\")\n",
    "        model = BertForSequenceClassification.from_pretrained(\"bert-base-uncased\", num_labels=3, id2label=id2label, label2id=label2id)\n",
    "        model.to(device)\n",
    "\n",
    "        # setup the otimizer and scheduler\n",
    "        optimizer = AdamW(model.parameters(),\n",
    "                        lr=current_hyperparameters[\"learning_rate\"],\n",
    "                        weight_decay=current_hyperparameters[\"weight_decay\"])\n",
    "\n",
    "        lr_scheduler = get_scheduler(\"linear\", optimizer=optimizer,\n",
    "                                    num_warmup_steps=0,\n",
    "                                    num_training_steps=len(train_loader) * current_hyperparameters[\"num_train_epochs\"])\n",
    "            \n",
    "\n",
    "        # training the model\n",
    "        for epoch in range(current_hyperparameters[\"num_train_epochs\"]):\n",
    "            model.train()\n",
    "            for batch in tqdm(train_loader):\n",
    "                batch = {k: v.to(device) for k, v in batch.items()}\n",
    "                outputs = model(input_ids=batch[\"input_ids\"],\n",
    "                                attention_mask=batch[\"attention_mask\"],\n",
    "                                labels=batch[\"labels\"])\n",
    "                logits = outputs.logits\n",
    "\n",
    "                per_sample_loss = torch.nn.functional.cross_entropy(\n",
    "                    logits, batch[\"labels\"], reduction='none')\n",
    "                weighted_loss = (per_sample_loss * batch[\"weights\"]).mean()\n",
    "\n",
    "                optimizer.zero_grad()\n",
    "                weighted_loss.backward()\n",
    "                optimizer.step()\n",
    "                lr_scheduler.step()\n",
    "\n",
    "        # weighted validation loss\n",
    "        model.eval()\n",
    "        val_losses = []\n",
    "        with torch.no_grad():\n",
    "            for batch in val_loader:\n",
    "                batch = {k: v.to(device) for k, v in batch.items()}\n",
    "                outputs = model(input_ids=batch[\"input_ids\"],\n",
    "                                attention_mask=batch[\"attention_mask\"])\n",
    "                logits = outputs.logits\n",
    "                loss = torch.nn.functional.cross_entropy(logits, batch[\"labels\"], reduction='none')\n",
    "                weighted_loss = (loss * batch[\"weights\"]).mean()\n",
    "                val_losses.append(weighted_loss.item())\n",
    "        val_mean = sum(val_losses) / len(val_losses)\n",
    "        print(f\"Fold {fold + 1}/{skf.n_splits}, Validation Loss: {val_mean:.4f}\")\n",
    "        \n",
    "        # update the evaluation loss\n",
    "        current_hyperparameters_eval_loss += val_mean\n",
    "\n",
    "    # update the results dataframe\n",
    "    current_results[\"num_train_epochs\"].append(current_hyperparameters[\"num_train_epochs\"])\n",
    "    current_results[\"learning_rate\"].append(current_hyperparameters[\"learning_rate\"])\n",
    "    current_results[\"weight_decay\"].append(current_hyperparameters[\"weight_decay\"])\n",
    "    current_results[\"eval_loss\"].append(current_hyperparameters_eval_loss / skf.n_splits)\n",
    "    all_results = pd.concat([all_results, pd.DataFrame(current_results)], ignore_index=True)\n",
    "    all_results.to_csv(\"model BERT (3).csv\", index=False)\n",
    "\n",
    "\"Hyperparameter tuning completed. Results saved to model BERT (3).csv.\""
   ]
  },
  {
   "cell_type": "code",
   "execution_count": 7,
   "id": "a33f0932",
   "metadata": {},
   "outputs": [
    {
     "data": {
      "text/html": [
       "<div>\n",
       "<style scoped>\n",
       "    .dataframe tbody tr th:only-of-type {\n",
       "        vertical-align: middle;\n",
       "    }\n",
       "\n",
       "    .dataframe tbody tr th {\n",
       "        vertical-align: top;\n",
       "    }\n",
       "\n",
       "    .dataframe thead th {\n",
       "        text-align: right;\n",
       "    }\n",
       "</style>\n",
       "<table border=\"1\" class=\"dataframe\">\n",
       "  <thead>\n",
       "    <tr style=\"text-align: right;\">\n",
       "      <th></th>\n",
       "      <th>num_train_epochs</th>\n",
       "      <th>learning_rate</th>\n",
       "      <th>weight_decay</th>\n",
       "      <th>eval_loss</th>\n",
       "    </tr>\n",
       "  </thead>\n",
       "  <tbody>\n",
       "    <tr>\n",
       "      <th>0</th>\n",
       "      <td>1</td>\n",
       "      <td>0.0001</td>\n",
       "      <td>0.10</td>\n",
       "      <td>0.462535</td>\n",
       "    </tr>\n",
       "    <tr>\n",
       "      <th>1</th>\n",
       "      <td>1</td>\n",
       "      <td>0.0001</td>\n",
       "      <td>0.01</td>\n",
       "      <td>0.463366</td>\n",
       "    </tr>\n",
       "    <tr>\n",
       "      <th>2</th>\n",
       "      <td>4</td>\n",
       "      <td>0.0001</td>\n",
       "      <td>0.50</td>\n",
       "      <td>0.514014</td>\n",
       "    </tr>\n",
       "  </tbody>\n",
       "</table>\n",
       "</div>"
      ],
      "text/plain": [
       "   num_train_epochs  learning_rate  weight_decay  eval_loss\n",
       "0                 1         0.0001          0.10   0.462535\n",
       "1                 1         0.0001          0.01   0.463366\n",
       "2                 4         0.0001          0.50   0.514014"
      ]
     },
     "execution_count": 7,
     "metadata": {},
     "output_type": "execute_result"
    }
   ],
   "source": [
    "all_results = all_results.sort_values(by=\"eval_loss\").reset_index(drop=True)\n",
    "all_results.to_csv(\"model BERT (3).csv\", index=False)\n",
    "\n",
    "all_results.head(3)"
   ]
  },
  {
   "cell_type": "markdown",
   "id": "726dd38e",
   "metadata": {},
   "source": [
    "### Step 4: Train the model with the best hyperparameters"
   ]
  },
  {
   "cell_type": "code",
   "execution_count": 8,
   "id": "9881008b",
   "metadata": {},
   "outputs": [
    {
     "name": "stdout",
     "output_type": "stream",
     "text": [
      "Best hyperparameters found in 18 tested combinations:\n",
      "Num train epochs: 1.0\n",
      "Learning rate: 0.0001\n",
      "Weight decay: 0.1\n"
     ]
    }
   ],
   "source": [
    "best_hyperparameters = all_results.iloc[0]\n",
    "print(f\"Best hyperparameters found in {all_results.shape[0]} tested combinations:\")\n",
    "print(f\"Num train epochs: {best_hyperparameters['num_train_epochs']}\")\n",
    "print(f\"Learning rate: {best_hyperparameters['learning_rate']}\")\n",
    "print(f\"Weight decay: {best_hyperparameters['weight_decay']}\")"
   ]
  },
  {
   "cell_type": "code",
   "execution_count": 9,
   "id": "ec0ca3c3",
   "metadata": {},
   "outputs": [],
   "source": [
    "# prepare the datasets\n",
    "train_dataset = WeightedTextDataset(df_train, tokenizer, get_weight_map(df_train))\n",
    "train_loader = DataLoader(train_dataset, batch_size=16, shuffle=True)\n",
    "\n",
    "test_dataset = WeightlessTextDataset(df_test, tokenizer)\n",
    "test_loader = DataLoader(test_dataset, batch_size=16, shuffle=False)"
   ]
  },
  {
   "cell_type": "code",
   "execution_count": null,
   "id": "bd57a04f",
   "metadata": {},
   "outputs": [
    {
     "name": "stderr",
     "output_type": "stream",
     "text": [
      "Some weights of BertForSequenceClassification were not initialized from the model checkpoint at bert-base-uncased and are newly initialized: ['classifier.bias', 'classifier.weight']\n",
      "You should probably TRAIN this model on a down-stream task to be able to use it for predictions and inference.\n",
      " 27%|██▋       | 26/98 [01:00<02:45,  2.30s/it]"
     ]
    }
   ],
   "source": [
    "# define the model\n",
    "device = torch.device(\"cpu\")\n",
    "model = BertForSequenceClassification.from_pretrained(\"bert-base-uncased\", num_labels=3, id2label=id2label, label2id=label2id)\n",
    "model.to(device)\n",
    "\n",
    "# setup the otimizer and scheduler\n",
    "optimizer = AdamW(model.parameters(),\n",
    "                  lr=float(best_hyperparameters[\"learning_rate\"]),\n",
    "                  weight_decay=float(best_hyperparameters[\"weight_decay\"]))\n",
    "\n",
    "lr_scheduler = get_scheduler(\"linear\", optimizer=optimizer,\n",
    "                             num_warmup_steps=0,\n",
    "                             num_training_steps=len(train_loader) * int(best_hyperparameters[\"num_train_epochs\"]))\n",
    "\n",
    "# training the model with loss tracking\n",
    "train_loss_per_epoch = []\n",
    "val_loss_per_epoch = []\n",
    "\n",
    "for epoch in range(int(best_hyperparameters[\"num_train_epochs\"])):\n",
    "    model.train()\n",
    "    epoch_losses = []\n",
    "    for batch in tqdm(train_loader):\n",
    "        batch = {k: v.to(device) for k, v in batch.items()}\n",
    "        outputs = model(input_ids=batch[\"input_ids\"],\n",
    "                        attention_mask=batch[\"attention_mask\"],\n",
    "                        labels=batch[\"labels\"])\n",
    "        logits = outputs.logits\n",
    "\n",
    "        per_sample_loss = torch.nn.functional.cross_entropy(\n",
    "            logits, batch[\"labels\"], reduction='none')\n",
    "        weighted_loss = (per_sample_loss * batch[\"weights\"]).mean()\n",
    "\n",
    "        optimizer.zero_grad()\n",
    "        weighted_loss.backward()\n",
    "        optimizer.step()\n",
    "        lr_scheduler.step()\n",
    "\n",
    "        epoch_losses.append(weighted_loss.item())\n",
    "\n",
    "    mean_train_loss = sum(epoch_losses) / len(epoch_losses)\n",
    "    train_loss_per_epoch.append(mean_train_loss)\n",
    "    print(f\"Epoch {epoch+1}, Train Weighted Loss: {mean_train_loss:.4f}\")\n",
    "\n",
    "    # weightless validation loss for the test set\n",
    "    model.eval()\n",
    "    val_losses = []\n",
    "    with torch.no_grad():\n",
    "        for batch in test_loader:\n",
    "            batch = {k: v.to(device) for k, v in batch.items()}\n",
    "            outputs = model(input_ids=batch[\"input_ids\"],\n",
    "                            attention_mask=batch[\"attention_mask\"])\n",
    "            logits = outputs.logits\n",
    "            loss = torch.nn.functional.cross_entropy(logits, batch[\"labels\"], reduction='mean')\n",
    "            val_losses.append(loss.item())\n",
    "\n",
    "    val_mean = sum(val_losses) / len(val_losses)\n",
    "    val_loss_per_epoch.append(val_mean)\n",
    "    print(f\"Epoch {epoch+1}, Val Unweighted Loss: {val_mean:.4f}\")"
   ]
  },
  {
   "cell_type": "code",
   "execution_count": null,
   "id": "77624792",
   "metadata": {},
   "outputs": [
    {
     "data": {
      "image/png": "[encoded data removed]",
      "text/plain": [
       "<Figure size 2000x600 with 1 Axes>"
      ]
     },
     "metadata": {},
     "output_type": "display_data"
    }
   ],
   "source": [
    "# show the learning curves\n",
    "plt.figure(figsize=(20, 6))\n",
    "plt.plot(train_loss_per_epoch, label='Train Weighted Loss')\n",
    "plt.plot(val_loss_per_epoch, label='Val Unweighted Loss')\n",
    "plt.xlabel(\"Epoch\")\n",
    "plt.ylabel(\"Loss\")\n",
    "plt.legend()\n",
    "plt.title(\"Training and Evaluation Loss:: VARIA COM SEED\")\n",
    "plt.show()"
   ]
  },
  {
   "cell_type": "markdown",
   "id": "9db3d472",
   "metadata": {},
   "source": [
    "### Step 5: Evaluate the model"
   ]
  },
  {
   "cell_type": "code",
   "execution_count": null,
   "id": "9ed53a43",
   "metadata": {},
   "outputs": [
    {
     "name": "stdout",
     "output_type": "stream",
     "text": [
      "\n",
      "=== Classification Report (Partial Train (weightless 75% Agreement)) ===\n",
      "              precision    recall  f1-score   support\n",
      "\n",
      "    negative       0.78      1.00      0.88       336\n",
      "     neutral       0.99      0.92      0.95      1717\n",
      "    positive       0.90      0.93      0.91       709\n",
      "\n",
      "    accuracy                           0.93      2762\n",
      "   macro avg       0.89      0.95      0.91      2762\n",
      "weighted avg       0.94      0.93      0.93      2762\n",
      "\n"
     ]
    },
    {
     "data": {
      "image/png": "[encoded data removed]",
      "text/plain": [
       "<Figure size 600x500 with 2 Axes>"
      ]
     },
     "metadata": {},
     "output_type": "display_data"
    },
    {
     "name": "stdout",
     "output_type": "stream",
     "text": [
      "\n",
      "=== Classification Report (Test) ===\n",
      "              precision    recall  f1-score   support\n",
      "\n",
      "    negative       0.75      0.98      0.85        84\n",
      "     neutral       0.98      0.91      0.94       429\n",
      "    positive       0.86      0.88      0.87       178\n",
      "\n",
      "    accuracy                           0.91       691\n",
      "   macro avg       0.86      0.92      0.88       691\n",
      "weighted avg       0.92      0.91      0.91       691\n",
      "\n"
     ]
    },
    {
     "data": {
      "image/png": "[encoded data removed]",
      "text/plain": [
       "<Figure size 600x500 with 2 Axes>"
      ]
     },
     "metadata": {},
     "output_type": "display_data"
    }
   ],
   "source": [
    "def evaluate_dataset(dataset, split_name):\n",
    "    model.eval()\n",
    "    all_preds = []\n",
    "    all_labels = []\n",
    "\n",
    "    dataloader = DataLoader(dataset, batch_size=16, shuffle=False)\n",
    "\n",
    "    with torch.no_grad():\n",
    "        for batch in dataloader:\n",
    "            batch = {k: v.to(device) for k, v in batch.items()}\n",
    "            outputs = model(input_ids=batch[\"input_ids\"],\n",
    "                            attention_mask=batch[\"attention_mask\"])\n",
    "            preds = torch.argmax(outputs.logits, dim=-1)\n",
    "            all_preds.extend(preds.cpu().numpy())\n",
    "            all_labels.extend(batch[\"labels\"].cpu().numpy())\n",
    "\n",
    "    print(f\"\\n=== Classification Report ({split_name}) ===\")\n",
    "    print(classification_report(all_labels, all_preds, target_names=[\"negative\", \"neutral\", \"positive\"]))\n",
    "\n",
    "    cm = confusion_matrix(all_labels, all_preds, normalize='true')\n",
    "    plt.figure(figsize=(6, 5))\n",
    "    sns.heatmap(cm, annot=True, fmt=\".2f\", cmap=\"Blues\",\n",
    "                xticklabels=[\"negative\", \"neutral\", \"positive\"],\n",
    "                yticklabels=[\"negative\", \"neutral\", \"positive\"])\n",
    "    plt.xlabel(\"Predicted\")\n",
    "    plt.ylabel(\"True\")\n",
    "    plt.title(f\"Normalized Confusion Matrix ({split_name})\")\n",
    "    plt.show()\n",
    "\n",
    "\n",
    "semi_train_df = pd.read_csv('data/75Agree_train.csv')\n",
    "semi_train_df[\"label\"] = semi_train_df[\"label\"].map(label2id)\n",
    "semi_train_dataset = WeightlessTextDataset(semi_train_df, tokenizer)\n",
    "\n",
    "df_test = pd.read_csv('data/75Agree_test.csv')\n",
    "df_test[\"label\"] = df_test[\"label\"].map(label2id)\n",
    "test_dataset = WeightlessTextDataset(df_test, tokenizer)\n",
    "\n",
    "# evaluate the model on the training and test datasets\n",
    "evaluate_dataset(semi_train_dataset, \"Partial Train (weightless 75% Agreement)\")\n",
    "evaluate_dataset(test_dataset, \"Test\")"
   ]
  },
  {
   "cell_type": "code",
   "execution_count": null,
   "id": "eebfb3ae",
   "metadata": {},
   "outputs": [],
   "source": []
  }
 ],
 "metadata": {
  "kernelspec": {
   "display_name": "CAA02",
   "language": "python",
   "name": "python3"
  },
  "language_info": {
   "codemirror_mode": {
    "name": "ipython",
    "version": 3
   },
   "file_extension": ".py",
   "mimetype": "text/x-python",
   "name": "python",
   "nbconvert_exporter": "python",
   "pygments_lexer": "ipython3",
   "version": "3.10.17"
  }
 },
 "nbformat": 4,
 "nbformat_minor": 5
}
