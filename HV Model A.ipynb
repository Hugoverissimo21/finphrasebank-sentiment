{
 "cells": [
  {
   "cell_type": "code",
   "execution_count": 1,
   "id": "ed7c3bfe",
   "metadata": {},
   "outputs": [
    {
     "name": "stderr",
     "output_type": "stream",
     "text": [
      "/opt/anaconda3/envs/CAA02/lib/python3.10/site-packages/tqdm/auto.py:21: TqdmWarning: IProgress not found. Please update jupyter and ipywidgets. See https://ipywidgets.readthedocs.io/en/stable/user_install.html\n",
      "  from .autonotebook import tqdm as notebook_tqdm\n",
      "Map: 100%|██████████| 3876/3876 [00:01<00:00, 3150.53 examples/s]\n",
      "Map: 100%|██████████| 970/970 [00:00<00:00, 3154.54 examples/s]\n",
      "Some weights of BertForSequenceClassification were not initialized from the model checkpoint at bert-base-uncased and are newly initialized: ['classifier.bias', 'classifier.weight']\n",
      "You should probably TRAIN this model on a down-stream task to be able to use it for predictions and inference.\n",
      "/var/folders/sz/96b_h5gn3y33k0c7jsvrstmm0000gn/T/ipykernel_5020/3389753228.py:91: FutureWarning: `tokenizer` is deprecated and will be removed in version 5.0.0 for `Trainer.__init__`. Use `processing_class` instead.\n",
      "  trainer = Trainer(\n",
      "/opt/anaconda3/envs/CAA02/lib/python3.10/site-packages/torch/utils/data/dataloader.py:683: UserWarning: 'pin_memory' argument is set as true but not supported on MPS now, then device pinned memory won't be used.\n",
      "  warnings.warn(warn_msg)\n"
     ]
    },
    {
     "data": {
      "text/html": [
       "\n",
       "    <div>\n",
       "      \n",
       "      <progress value='972' max='972' style='width:300px; height:20px; vertical-align: middle;'></progress>\n",
       "      [972/972 19:04, Epoch 4/4]\n",
       "    </div>\n",
       "    <table border=\"1\" class=\"dataframe\">\n",
       "  <thead>\n",
       " <tr style=\"text-align: left;\">\n",
       "      <th>Step</th>\n",
       "      <th>Training Loss</th>\n",
       "    </tr>\n",
       "  </thead>\n",
       "  <tbody>\n",
       "    <tr>\n",
       "      <td>500</td>\n",
       "      <td>0.415600</td>\n",
       "    </tr>\n",
       "  </tbody>\n",
       "</table><p>"
      ],
      "text/plain": [
       "<IPython.core.display.HTML object>"
      ]
     },
     "metadata": {},
     "output_type": "display_data"
    },
    {
     "name": "stderr",
     "output_type": "stream",
     "text": [
      "/opt/anaconda3/envs/CAA02/lib/python3.10/site-packages/torch/utils/data/dataloader.py:683: UserWarning: 'pin_memory' argument is set as true but not supported on MPS now, then device pinned memory won't be used.\n",
      "  warnings.warn(warn_msg)\n",
      "/opt/anaconda3/envs/CAA02/lib/python3.10/site-packages/torch/utils/data/dataloader.py:683: UserWarning: 'pin_memory' argument is set as true but not supported on MPS now, then device pinned memory won't be used.\n",
      "  warnings.warn(warn_msg)\n"
     ]
    },
    {
     "data": {
      "text/html": [],
      "text/plain": [
       "<IPython.core.display.HTML object>"
      ]
     },
     "metadata": {},
     "output_type": "display_data"
    },
    {
     "name": "stdout",
     "output_type": "stream",
     "text": [
      "Final evaluation: {'eval_loss': 0.6137823462486267, 'eval_accuracy': 0.8422680412371134, 'eval_macro_f1': 0.8327633154306349, 'eval_runtime': 19.3197, 'eval_samples_per_second': 50.208, 'eval_steps_per_second': 3.157, 'epoch': 4.0}\n"
     ]
    },
    {
     "name": "stderr",
     "output_type": "stream",
     "text": [
      "/opt/anaconda3/envs/CAA02/lib/python3.10/site-packages/torch/utils/data/dataloader.py:683: UserWarning: 'pin_memory' argument is set as true but not supported on MPS now, then device pinned memory won't be used.\n",
      "  warnings.warn(warn_msg)\n"
     ]
    },
    {
     "name": "stdout",
     "output_type": "stream",
     "text": [
      "              precision    recall  f1-score   support\n",
      "\n",
      "    negative       0.79      0.89      0.84       121\n",
      "     neutral       0.90      0.84      0.87       576\n",
      "    positive       0.76      0.83      0.79       273\n",
      "\n",
      "    accuracy                           0.84       970\n",
      "   macro avg       0.82      0.85      0.83       970\n",
      "weighted avg       0.85      0.84      0.84       970\n",
      "\n"
     ]
    }
   ],
   "source": [
    "import os\n",
    "import random\n",
    "import numpy as np\n",
    "import pandas as pd\n",
    "import torch\n",
    "from sklearn.model_selection import train_test_split\n",
    "from sklearn.metrics import classification_report\n",
    "from transformers import BertTokenizer, BertForSequenceClassification, Trainer, TrainingArguments\n",
    "from datasets import Dataset\n",
    "\n",
    "# 1. Load raw data\n",
    "def load_financial_phrasebank(filepath):\n",
    "    data = []\n",
    "    with open(filepath, encoding=\"iso-8859-1\") as f:\n",
    "        for line in f:\n",
    "            sentence, label = line.rsplit(\"@\", 1)\n",
    "            data.append({\n",
    "                \"sentence\": sentence.strip(),\n",
    "                \"label\": label.strip()\n",
    "            })\n",
    "    return data\n",
    "\n",
    "path_to_files = \"data/FinancialPhraseBank-v1.0/\"\n",
    "files_base_name = \"Sentences_\"\n",
    "possible_datasets = [\"50Agree\", \"66Agree\", \"75Agree\", \"AllAgree\"]\n",
    "files_ends_with = \".txt\"\n",
    "\n",
    "selected_dataset = \"50Agree\"  # or another from possible_datasets\n",
    "file_path = os.path.join(path_to_files, f\"{files_base_name}{selected_dataset}{files_ends_with}\")\n",
    "data = load_financial_phrasebank(file_path)\n",
    "\n",
    "# 2. Convert to DataFrame\n",
    "df = pd.DataFrame(data)\n",
    "\n",
    "# 3. Label encoding\n",
    "label2id = {\"negative\": 0, \"neutral\": 1, \"positive\": 2}\n",
    "id2label = {v: k for k, v in label2id.items()}\n",
    "df = df[df.label.str.lower().isin(label2id)]\n",
    "df[\"label\"] = df.label.str.lower().map(label2id)\n",
    "\n",
    "# 4. Train/test split\n",
    "train_df, test_df = train_test_split(df, test_size=0.2, stratify=df.label, random_state=42)\n",
    "\n",
    "# 5. Tokenization\n",
    "tokenizer = BertTokenizer.from_pretrained(\"bert-base-uncased\")\n",
    "\n",
    "def tokenize_function(examples):\n",
    "    return tokenizer(examples[\"sentence\"], truncation=True, padding=\"max_length\", max_length=128)\n",
    "\n",
    "train_dataset = Dataset.from_pandas(train_df)\n",
    "test_dataset = Dataset.from_pandas(test_df)\n",
    "\n",
    "train_dataset = train_dataset.map(tokenize_function, batched=True)\n",
    "test_dataset = test_dataset.map(tokenize_function, batched=True)\n",
    "\n",
    "train_dataset = train_dataset.rename_column(\"label\", \"labels\")\n",
    "test_dataset = test_dataset.rename_column(\"label\", \"labels\")\n",
    "\n",
    "train_dataset.set_format(type=\"torch\", columns=[\"input_ids\", \"attention_mask\", \"labels\"])\n",
    "test_dataset.set_format(type=\"torch\", columns=[\"input_ids\", \"attention_mask\", \"labels\"])\n",
    "\n",
    "# 6. Load model\n",
    "model = BertForSequenceClassification.from_pretrained(\"bert-base-uncased\", num_labels=3, id2label=id2label, label2id=label2id)\n",
    "\n",
    "# 7. Define training arguments\n",
    "training_args = TrainingArguments(\n",
    "    output_dir=\"./results\",\n",
    "    learning_rate=2e-5,\n",
    "    per_device_train_batch_size=16,\n",
    "    per_device_eval_batch_size=16,\n",
    "    num_train_epochs=4,\n",
    "    weight_decay=0.01,\n",
    "    logging_dir=\"./logs\",\n",
    "    save_total_limit=1,\n",
    "    save_steps=500,\n",
    "    logging_steps=500\n",
    ")\n",
    "\n",
    "\n",
    "# 8. Metrics function\n",
    "def compute_metrics(eval_pred):\n",
    "    logits, labels = eval_pred\n",
    "    preds = np.argmax(logits, axis=1)\n",
    "    report = classification_report(labels, preds, output_dict=True, target_names=[\"negative\", \"neutral\", \"positive\"])\n",
    "    return {\n",
    "        \"accuracy\": report[\"accuracy\"],\n",
    "        \"macro_f1\": report[\"macro avg\"][\"f1-score\"],\n",
    "    }\n",
    "\n",
    "# 9. Trainer\n",
    "trainer = Trainer(\n",
    "    model=model,\n",
    "    args=training_args,\n",
    "    train_dataset=train_dataset,\n",
    "    eval_dataset=test_dataset,\n",
    "    tokenizer=tokenizer,\n",
    "    compute_metrics=compute_metrics,\n",
    ")\n",
    "\n",
    "# 10. Train\n",
    "trainer.train()\n",
    "\n",
    "# 11. Evaluate\n",
    "results = trainer.evaluate()\n",
    "print(\"Final evaluation:\", results)\n",
    "\n",
    "# Optional: detailed classification report\n",
    "preds_output = trainer.predict(test_dataset)\n",
    "preds = np.argmax(preds_output.predictions, axis=1)\n",
    "y_true = preds_output.label_ids\n",
    "print(classification_report(y_true, preds, target_names=[\"negative\", \"neutral\", \"positive\"]))\n"
   ]
  },
  {
   "cell_type": "code",
   "execution_count": null,
   "id": "d0eb2567",
   "metadata": {},
   "outputs": [],
   "source": []
  }
 ],
 "metadata": {
  "kernelspec": {
   "display_name": "CAA02",
   "language": "python",
   "name": "python3"
  },
  "language_info": {
   "codemirror_mode": {
    "name": "ipython",
    "version": 3
   },
   "file_extension": ".py",
   "mimetype": "text/x-python",
   "name": "python",
   "nbconvert_exporter": "python",
   "pygments_lexer": "ipython3",
   "version": "3.10.17"
  }
 },
 "nbformat": 4,
 "nbformat_minor": 5
}
